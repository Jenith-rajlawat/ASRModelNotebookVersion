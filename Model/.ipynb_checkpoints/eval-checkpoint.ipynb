{
 "cells": [
  {
   "cell_type": "code",
   "execution_count": 1,
   "id": "2bd758b4",
   "metadata": {},
   "outputs": [],
   "source": [
    "%run configs.ipynb\n",
    "%run utils.ipynb"
   ]
  },
  {
   "cell_type": "markdown",
   "id": "b3abac6f",
   "metadata": {},
   "source": [
    "# Loads the trained model "
   ]
  },
  {
   "cell_type": "code",
   "execution_count": 4,
   "id": "d6a114e6",
   "metadata": {},
   "outputs": [],
   "source": [
    "optimizer = tf.keras.optimizers.Adam(learning_rate=0.001)\n"
   ]
  },
  {
   "cell_type": "code",
   "execution_count": 5,
   "id": "07caf3fb",
   "metadata": {},
   "outputs": [],
   "source": [
    "loss = 'sparse_categorical_crossentropy'\n"
   ]
  },
  {
   "cell_type": "code",
   "execution_count": 6,
   "id": "de9f8282",
   "metadata": {},
   "outputs": [],
   "source": [
    "metrics = ['accuracy']\n"
   ]
  },
  {
   "cell_type": "code",
   "execution_count": 7,
   "id": "08d78921",
   "metadata": {},
   "outputs": [
    {
     "name": "stdout",
     "output_type": "stream",
     "text": [
      "Loading model.....\n",
      "WARNING:tensorflow:No training configuration found in the save file, so the model was *not* compiled. Compile it manually.\n",
      "Model loaded ✅ ✅ ✅ ✅\n",
      "\n"
     ]
    }
   ],
   "source": [
    "print(\"Loading model.....\")\n",
    "model = load_model(\"model/trained_model_v1.h5\")\n",
    "model.compile(optimizer, loss, metrics)\n",
    "print(\"Model loaded \\u2705 \\u2705 \\u2705 \\u2705\\n\")"
   ]
  },
  {
   "cell_type": "markdown",
   "id": "c51556fd",
   "metadata": {},
   "source": [
    "# Loads wav file"
   ]
  },
  {
   "cell_type": "code",
   "execution_count": 9,
   "id": "66c17ccb",
   "metadata": {},
   "outputs": [
    {
     "name": "stdout",
     "output_type": "stream",
     "text": [
      "Loading wav files.....\n",
      "Wav files loaded ✅ ✅ ✅ ✅\n",
      "\n"
     ]
    }
   ],
   "source": [
    "wavs = []\n",
    "print(\"Loading wav files.....\")\n",
    "wavs.append(load_wav(\"dataset/wav_files(sampled)/0f43e91c4e.flac\"))\n",
    "wavs.append(load_wav(\"dataset/wav_files(sampled)/0f6725b07e.flac\"))\n",
    "print(\"Wav files loaded \\u2705 \\u2705 \\u2705 \\u2705\\n\")"
   ]
  },
  {
   "cell_type": "markdown",
   "id": "4bbcf9da",
   "metadata": {},
   "source": [
    "\"\"\"Gives the array of predicted sentences\"\"\""
   ]
  },
  {
   "cell_type": "code",
   "execution_count": 10,
   "id": "57598be8",
   "metadata": {},
   "outputs": [
    {
     "name": "stdout",
     "output_type": "stream",
     "text": [
      "Predicting sentences.....\n",
      "['म', 'म थम थयो'] \n",
      "\n"
     ]
    }
   ],
   "source": [
    "print(\"Predicting sentences.....\")\n",
    "sentences, char_indices = predict_from_wavs(model, wavs, UNQ_CHARS)\n",
    "print(sentences, \"\\n\")"
   ]
  },
  {
   "cell_type": "markdown",
   "id": "4e50bce1",
   "metadata": {},
   "source": [
    "\"\"\"Gives softmax output of the ctc model\"\"\""
   ]
  },
  {
   "cell_type": "code",
   "execution_count": 14,
   "id": "7da3ea12",
   "metadata": {},
   "outputs": [
    {
     "name": "stdout",
     "output_type": "stream",
     "text": [
      "tf.Tensor(\n",
      "[[[1.64265060e-07 1.40859825e-07 1.80404568e-05 ... 1.02176114e-06\n",
      "   8.59391491e-09 1.16060749e-02]\n",
      "  [4.63216088e-09 3.61727315e-09 1.27290332e-05 ... 3.70690785e-08\n",
      "   1.29200872e-10 1.99486036e-03]\n",
      "  [8.21680224e-10 6.25943686e-10 1.53382643e-05 ... 7.38600914e-09\n",
      "   1.76891141e-11 8.17125721e-04]\n",
      "  ...\n",
      "  [4.54177612e-10 4.52239579e-10 8.06644221e-06 ... 3.29485078e-10\n",
      "   1.35197140e-11 2.43609270e-06]\n",
      "  [1.44514818e-08 2.25473009e-08 3.55731638e-04 ... 1.12718395e-08\n",
      "   1.13776966e-09 2.30280748e-05]\n",
      "  [1.22738629e-06 2.19210688e-06 4.05657105e-02 ... 1.19407014e-06\n",
      "   3.79852878e-07 1.53213041e-03]]\n",
      "\n",
      " [[1.50300110e-07 1.08952911e-07 1.20458153e-05 ... 6.96260940e-07\n",
      "   7.06932113e-09 2.14155503e-02]\n",
      "  [2.67671840e-09 1.93213912e-09 6.66908454e-06 ... 1.67541607e-08\n",
      "   7.21553581e-11 3.09176208e-03]\n",
      "  [3.77017306e-10 2.70289346e-10 9.29143334e-06 ... 2.56566213e-09\n",
      "   8.17193795e-12 1.30637258e-03]\n",
      "  ...\n",
      "  [1.36039418e-07 7.58112719e-08 1.17576528e-04 ... 8.40847889e-08\n",
      "   2.34458053e-08 4.56446439e-01]\n",
      "  [2.54594198e-07 1.99102061e-07 4.52213280e-05 ... 1.64449247e-07\n",
      "   6.72323637e-08 4.44179811e-02]\n",
      "  [3.80016502e-07 2.20113563e-07 5.18237975e-05 ... 2.03572725e-07\n",
      "   7.48158442e-08 3.42243141e-03]]], shape=(2, 301, 66), dtype=float32)\n"
     ]
    }
   ],
   "source": [
    "softmax = ctc_softmax_output_from_wavs(model, wavs)\n",
    "print(softmax)"
   ]
  },
  {
   "cell_type": "markdown",
   "id": "fb7f641d",
   "metadata": {},
   "source": [
    "\"\"\"Gives Character Error Rate (CER) between the targeted and predicted output\"\"\""
   ]
  },
  {
   "cell_type": "code",
   "execution_count": 15,
   "id": "8a1195de",
   "metadata": {},
   "outputs": [
    {
     "name": "stdout",
     "output_type": "stream",
     "text": [
      "Calculating CER.....\n",
      "CER -> 86.67%, \t No.of sentences -> 2, \t Time Taken -> 3.45 secs.\n",
      "The total time taken for all sentences CER calculation is  3.45 secs.\n",
      "0.8666666666666667 \n",
      "\n"
     ]
    }
   ],
   "source": [
    "print(\"Calculating CER.....\")\n",
    "cer = CER_from_wavs(model, wavs, [\"राज्य सिक्किमको\", \"लगेर हानेमा गलत\"], UNQ_CHARS)\n",
    "#राज्य सिक्किमको\n",
    "print(cer, \"\\n\")"
   ]
  },
  {
   "cell_type": "code",
   "execution_count": null,
   "id": "458b62a2",
   "metadata": {},
   "outputs": [],
   "source": []
  }
 ],
 "metadata": {
  "kernelspec": {
   "display_name": "Python 3 (ipykernel)",
   "language": "python",
   "name": "python3"
  },
  "language_info": {
   "codemirror_mode": {
    "name": "ipython",
    "version": 3
   },
   "file_extension": ".py",
   "mimetype": "text/x-python",
   "name": "python",
   "nbconvert_exporter": "python",
   "pygments_lexer": "ipython3",
   "version": "3.10.9"
  }
 },
 "nbformat": 4,
 "nbformat_minor": 5
}
