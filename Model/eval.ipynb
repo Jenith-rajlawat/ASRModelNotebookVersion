{
 "cells": [
  {
   "cell_type": "code",
   "execution_count": 1,
   "id": "2bd758b4",
   "metadata": {},
   "outputs": [],
   "source": [
    "%run configs.ipynb\n",
    "%run utils.ipynb"
   ]
  },
  {
   "cell_type": "markdown",
   "id": "a6852ec9",
   "metadata": {},
   "source": [
    "# Loads the trained model "
   ]
  },
  {
   "cell_type": "code",
   "execution_count": 4,
   "id": "ba29347f",
   "metadata": {},
   "outputs": [],
   "source": [
    "optimizer = tf.keras.optimizers.Adam(learning_rate=0.001)\n"
   ]
  },
  {
   "cell_type": "code",
   "execution_count": 5,
   "id": "5498f2b5",
   "metadata": {},
   "outputs": [],
   "source": [
    "loss = 'sparse_categorical_crossentropy'\n"
   ]
  },
  {
   "cell_type": "code",
   "execution_count": 6,
   "id": "81b5c4aa",
   "metadata": {},
   "outputs": [],
   "source": [
    "metrics = ['accuracy']\n"
   ]
  },
  {
   "cell_type": "code",
   "execution_count": 7,
   "id": "6eab0758",
   "metadata": {},
   "outputs": [
    {
     "name": "stdout",
     "output_type": "stream",
     "text": [
      "Loading model.....\n",
      "WARNING:tensorflow:No training configuration found in the save file, so the model was *not* compiled. Compile it manually.\n",
      "Model loaded ✅ ✅ ✅ ✅\n",
      "\n"
     ]
    }
   ],
   "source": [
    "print(\"Loading model.....\")\n",
    "model = load_model(\"model/trained_model_v1.h5\")\n",
    "model.compile(optimizer, loss, metrics)\n",
    "print(\"Model loaded \\u2705 \\u2705 \\u2705 \\u2705\\n\")"
   ]
  },
  {
   "cell_type": "markdown",
   "id": "c85d9734",
   "metadata": {},
   "source": [
    "# Loads wav file"
   ]
  },
  {
   "cell_type": "code",
   "execution_count": 18,
   "id": "4bb3f2e8",
   "metadata": {},
   "outputs": [
    {
     "name": "stdout",
     "output_type": "stream",
     "text": [
      "Loading wav files.....\n",
      "Wav files loaded ✅ ✅ ✅ ✅\n",
      "\n"
     ]
    }
   ],
   "source": [
    "wavs = []\n",
    "print(\"Loading wav files.....\")\n",
    "wavs.append(load_wav(\"dataset/wav_files(sampled)/0f43e91c4e.flac\"))\n",
    "wavs.append(load_wav(\"dataset/wav_files(sampled)/0f6725b07e.flac\"))\n",
    "print(\"Wav files loaded \\u2705 \\u2705 \\u2705 \\u2705\\n\")"
   ]
  },
  {
   "cell_type": "markdown",
   "id": "02e96656",
   "metadata": {},
   "source": [
    "\"\"\"Gives the array of predicted sentences\"\"\""
   ]
  },
  {
   "cell_type": "code",
   "execution_count": 19,
   "id": "e9b45f68",
   "metadata": {},
   "outputs": [
    {
     "name": "stdout",
     "output_type": "stream",
     "text": [
      "Predicting sentences.....\n",
      "['राज्यसिक्किङ्क', 'लगेर हानेमा गलत'] \n",
      "\n"
     ]
    }
   ],
   "source": [
    "print(\"Predicting sentences.....\")\n",
    "sentences, char_indices = predict_from_wavs(model, wavs, UNQ_CHARS)\n",
    "print(sentences, \"\\n\")"
   ]
  },
  {
   "cell_type": "markdown",
   "id": "cb2841dc",
   "metadata": {},
   "source": [
    "\"\"\"Gives softmax output of the ctc model\"\"\""
   ]
  },
  {
   "cell_type": "code",
   "execution_count": 20,
   "id": "1ea8388a",
   "metadata": {},
   "outputs": [
    {
     "name": "stdout",
     "output_type": "stream",
     "text": [
      "tf.Tensor(\n",
      "[[[2.2922224e-26 3.2327656e-16 2.2397460e-08 ... 3.6773751e-37\n",
      "   1.2872300e-13 9.9999869e-01]\n",
      "  [6.9672206e-28 8.2516649e-10 1.1231247e-09 ... 1.6138707e-34\n",
      "   4.9178413e-13 9.9999988e-01]\n",
      "  [9.5492121e-29 6.2878140e-11 2.5108146e-10 ... 5.8968828e-33\n",
      "   4.5216362e-13 9.9999988e-01]\n",
      "  ...\n",
      "  [5.9863492e-26 6.0752146e-12 8.2839506e-08 ... 2.8870313e-28\n",
      "   1.2058419e-13 9.9999750e-01]\n",
      "  [6.8594093e-25 1.3146913e-10 1.2766328e-06 ... 4.9457448e-30\n",
      "   1.3800837e-13 9.9999392e-01]\n",
      "  [3.7555754e-22 7.4050002e-09 1.4510537e-05 ... 4.6516860e-24\n",
      "   5.8153916e-12 9.9995327e-01]]\n",
      "\n",
      " [[3.5365863e-27 5.6795511e-17 6.7656636e-09 ... 0.0000000e+00\n",
      "   4.3982384e-16 9.9999964e-01]\n",
      "  [3.2442637e-28 1.4561610e-10 9.6703867e-10 ... 0.0000000e+00\n",
      "   9.0849493e-15 9.9999988e-01]\n",
      "  [5.9255974e-30 6.7780798e-12 5.8146564e-11 ... 1.0761601e-36\n",
      "   1.0626043e-14 9.9999988e-01]\n",
      "  ...\n",
      "  [1.7260852e-31 2.4865906e-13 5.7333334e-09 ... 1.0360742e-37\n",
      "   1.9939151e-18 1.0000000e+00]\n",
      "  [2.3191711e-28 7.8939329e-12 3.2711384e-08 ... 9.0444798e-32\n",
      "   3.5044146e-16 9.9999952e-01]\n",
      "  [3.4327539e-24 8.1041390e-10 9.6971246e-07 ... 1.4950326e-24\n",
      "   5.2638487e-13 9.9997282e-01]]], shape=(2, 301, 66), dtype=float32)\n"
     ]
    }
   ],
   "source": [
    "softmax = ctc_softmax_output_from_wavs(model, wavs)\n",
    "print(softmax)"
   ]
  },
  {
   "cell_type": "markdown",
   "id": "fce16ec7",
   "metadata": {},
   "source": [
    "\"\"\"Gives Character Error Rate (CER) between the targeted and predicted output\"\"\""
   ]
  },
  {
   "cell_type": "code",
   "execution_count": 21,
   "id": "b6cf4b4d",
   "metadata": {},
   "outputs": [
    {
     "name": "stdout",
     "output_type": "stream",
     "text": [
      "Calculating CER.....\n",
      "CER -> 13.33%, \t No.of sentences -> 2, \t Time Taken -> 3.59 secs.\n",
      "The total time taken for all sentences CER calculation is  3.59 secs.\n",
      "0.13333333333333333 \n",
      "\n"
     ]
    }
   ],
   "source": [
    "print(\"Calculating CER.....\")\n",
    "cer = CER_from_wavs(model, wavs, [\"राज्य सिक्किमको\", \"लगेर हानेमा गलत\"], UNQ_CHARS)\n",
    "#राज्य सिक्किमको\n",
    "print(cer, \"\\n\")"
   ]
  },
  {
   "cell_type": "markdown",
   "id": "7908a368",
   "metadata": {},
   "source": [
    "# Load Pretrained Model"
   ]
  },
  {
   "cell_type": "code",
   "execution_count": 23,
   "id": "ea3665d2",
   "metadata": {},
   "outputs": [
    {
     "name": "stdout",
     "output_type": "stream",
     "text": [
      "Loading model.....\n",
      "WARNING:tensorflow:No training configuration found in the save file, so the model was *not* compiled. Compile it manually.\n",
      "Model loaded ✅ ✅ ✅ ✅\n",
      "\n"
     ]
    },
    {
     "data": {
      "text/plain": [
       "<keras.src.engine.functional.Functional at 0x1c912460cd0>"
      ]
     },
     "execution_count": 23,
     "metadata": {},
     "output_type": "execute_result"
    }
   ],
   "source": [
    "print(\"Loading model.....\")\n",
    "model = load_model(\"model/trained_model.h5\")\n",
    "model.compile(optimizer, loss, metrics)\n",
    "print(\"Model loaded \\u2705 \\u2705 \\u2705 \\u2705\\n\")\n",
    "model"
   ]
  },
  {
   "cell_type": "code",
   "execution_count": null,
   "id": "26949fa1",
   "metadata": {},
   "outputs": [],
   "source": []
  }
 ],
 "metadata": {
  "kernelspec": {
   "display_name": "Python 3 (ipykernel)",
   "language": "python",
   "name": "python3"
  },
  "language_info": {
   "codemirror_mode": {
    "name": "ipython",
    "version": 3
   },
   "file_extension": ".py",
   "mimetype": "text/x-python",
   "name": "python",
   "nbconvert_exporter": "python",
   "pygments_lexer": "ipython3",
   "version": "3.10.9"
  }
 },
 "nbformat": 4,
 "nbformat_minor": 5
}
