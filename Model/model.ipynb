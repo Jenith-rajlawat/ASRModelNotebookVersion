{
 "cells": [
  {
   "cell_type": "code",
   "execution_count": 4,
   "id": "cfb5793c",
   "metadata": {},
   "outputs": [],
   "source": [
    "%run configs.ipynb\n",
    "from tensorflow.keras import layers, Model, Input\n",
    "import tensorflow.keras.backend as K\n",
    "import numpy as np"
   ]
  },
  {
   "cell_type": "markdown",
   "id": "337e3435",
   "metadata": {},
   "source": [
    "# Residual block for the model"
   ]
  },
  {
   "cell_type": "code",
   "execution_count": 5,
   "id": "11a2fc28",
   "metadata": {},
   "outputs": [],
   "source": [
    "def res_block(ip, num_cnn_layers, cnn_filters, cnn_kernel_size, use_resnet):\n",
    "\n",
    "    res_arch = ip\n",
    "    for _ in range(num_cnn_layers):\n",
    "        res_arch = layers.Conv1D(\n",
    "            cnn_filters, cnn_kernel_size, padding='same')(res_arch)\n",
    "        res_arch = layers.BatchNormalization()(res_arch)\n",
    "        res_arch = layers.PReLU(shared_axes=[1])(res_arch)\n",
    "\n",
    "    return layers.add([ip, res_arch]) if use_resnet else res_arch"
   ]
  },
  {
   "cell_type": "markdown",
   "id": "c6d7e203",
   "metadata": {},
   "source": [
    "# Main ASR model"
   ]
  },
  {
   "cell_type": "code",
   "execution_count": 6,
   "id": "4ae10d84",
   "metadata": {},
   "outputs": [],
   "source": [
    "def get_model(ip_channel, num_classes, num_res_blocks=3, num_cnn_layers=1, cnn_filters=50,\n",
    "             cnn_kernel_size=15,  num_rnn_layers=2, rnn_dim=170, num_dense_layers=1,\n",
    "             dense_dim=300, use_birnn=True, use_resnet=True, rnn_type=\"lstm\", rnn_dropout=0.15,\n",
    "             model_name=None):\n",
    "\n",
    "    input = Input(shape=(None, ip_channel))\n",
    "\n",
    "    arch = layers.Conv1D(cnn_filters, cnn_kernel_size, padding=\"same\")(input)\n",
    "    arch = layers.BatchNormalization()(arch)\n",
    "    arch = layers.PReLU(shared_axes=[1])(arch)\n",
    "\n",
    "    for _ in range(num_res_blocks):\n",
    "        arch = res_block(arch, num_cnn_layers, cnn_filters,\n",
    "                         cnn_kernel_size, use_resnet)\n",
    "\n",
    "    rnn = layers.GRU if rnn_type == \"gru\" else layers.LSTM\n",
    "\n",
    "    for _ in range(num_rnn_layers):\n",
    "        if use_birnn:\n",
    "            arch = layers.Bidirectional(\n",
    "                rnn(rnn_dim, dropout=rnn_dropout, return_sequences=True))(arch)\n",
    "        else:\n",
    "            arch = rnn(rnn_dim, dropout=rnn_dropout,\n",
    "                       return_sequences=True)(arch)\n",
    "\n",
    "    for _ in range(num_dense_layers):\n",
    "        arch = layers.Dense(dense_dim)(arch)\n",
    "        arch = layers.ReLU()(arch)\n",
    "\n",
    "    arch = layers.Dense(num_classes)(arch)\n",
    "    output = K.softmax(arch)\n",
    "\n",
    "    model = Model(inputs=input, outputs=output, name=model_name)\n",
    "\n",
    "    return model"
   ]
  },
  {
   "cell_type": "markdown",
   "id": "8ca8159f",
   "metadata": {},
   "source": [
    "# Defintion of the model"
   ]
  },
  {
   "cell_type": "code",
   "execution_count": 7,
   "id": "ca8a0bab",
   "metadata": {},
   "outputs": [
    {
     "name": "stdout",
     "output_type": "stream",
     "text": [
      "(2, 100, 66)\n"
     ]
    }
   ],
   "source": [
    "if __name__ == \"__main__\":\n",
    "    \n",
    "    model = get_model(INPUT_DIM, NUM_UNQ_CHARS, num_res_blocks=5, num_cnn_layers=2,\n",
    "                     cnn_filters=50, cnn_kernel_size=15, rnn_dim=170, num_rnn_layers=2,\n",
    "                     num_dense_layers=1, dense_dim=340, model_name=MODEL_NAME, rnn_type=\"lstm\",\n",
    "                     use_birnn=True)\n",
    "    x = np.random.rand(2, 100, INPUT_DIM)\n",
    "    y = model(x)\n",
    "    print(y.shape)"
   ]
  },
  {
   "cell_type": "markdown",
   "id": "2360fb88",
   "metadata": {},
   "source": [
    "# Summary of model"
   ]
  },
  {
   "cell_type": "code",
   "execution_count": 8,
   "id": "36b8540e",
   "metadata": {},
   "outputs": [
    {
     "name": "stdout",
     "output_type": "stream",
     "text": [
      "Model: \"ASR_model\"\n",
      "__________________________________________________________________________________________________\n",
      " Layer (type)                Output Shape                 Param #   Connected to                  \n",
      "==================================================================================================\n",
      " input_1 (InputLayer)        [(None, None, 52)]           0         []                            \n",
      "                                                                                                  \n",
      " conv1d (Conv1D)             (None, None, 50)             39050     ['input_1[0][0]']             \n",
      "                                                                                                  \n",
      " batch_normalization (Batch  (None, None, 50)             200       ['conv1d[0][0]']              \n",
      " Normalization)                                                                                   \n",
      "                                                                                                  \n",
      " p_re_lu (PReLU)             (None, None, 50)             50        ['batch_normalization[0][0]'] \n",
      "                                                                                                  \n",
      " conv1d_1 (Conv1D)           (None, None, 50)             37550     ['p_re_lu[0][0]']             \n",
      "                                                                                                  \n",
      " batch_normalization_1 (Bat  (None, None, 50)             200       ['conv1d_1[0][0]']            \n",
      " chNormalization)                                                                                 \n",
      "                                                                                                  \n",
      " p_re_lu_1 (PReLU)           (None, None, 50)             50        ['batch_normalization_1[0][0]'\n",
      "                                                                    ]                             \n",
      "                                                                                                  \n",
      " conv1d_2 (Conv1D)           (None, None, 50)             37550     ['p_re_lu_1[0][0]']           \n",
      "                                                                                                  \n",
      " batch_normalization_2 (Bat  (None, None, 50)             200       ['conv1d_2[0][0]']            \n",
      " chNormalization)                                                                                 \n",
      "                                                                                                  \n",
      " p_re_lu_2 (PReLU)           (None, None, 50)             50        ['batch_normalization_2[0][0]'\n",
      "                                                                    ]                             \n",
      "                                                                                                  \n",
      " add (Add)                   (None, None, 50)             0         ['p_re_lu[0][0]',             \n",
      "                                                                     'p_re_lu_2[0][0]']           \n",
      "                                                                                                  \n",
      " conv1d_3 (Conv1D)           (None, None, 50)             37550     ['add[0][0]']                 \n",
      "                                                                                                  \n",
      " batch_normalization_3 (Bat  (None, None, 50)             200       ['conv1d_3[0][0]']            \n",
      " chNormalization)                                                                                 \n",
      "                                                                                                  \n",
      " p_re_lu_3 (PReLU)           (None, None, 50)             50        ['batch_normalization_3[0][0]'\n",
      "                                                                    ]                             \n",
      "                                                                                                  \n",
      " conv1d_4 (Conv1D)           (None, None, 50)             37550     ['p_re_lu_3[0][0]']           \n",
      "                                                                                                  \n",
      " batch_normalization_4 (Bat  (None, None, 50)             200       ['conv1d_4[0][0]']            \n",
      " chNormalization)                                                                                 \n",
      "                                                                                                  \n",
      " p_re_lu_4 (PReLU)           (None, None, 50)             50        ['batch_normalization_4[0][0]'\n",
      "                                                                    ]                             \n",
      "                                                                                                  \n",
      " add_1 (Add)                 (None, None, 50)             0         ['add[0][0]',                 \n",
      "                                                                     'p_re_lu_4[0][0]']           \n",
      "                                                                                                  \n",
      " conv1d_5 (Conv1D)           (None, None, 50)             37550     ['add_1[0][0]']               \n",
      "                                                                                                  \n",
      " batch_normalization_5 (Bat  (None, None, 50)             200       ['conv1d_5[0][0]']            \n",
      " chNormalization)                                                                                 \n",
      "                                                                                                  \n",
      " p_re_lu_5 (PReLU)           (None, None, 50)             50        ['batch_normalization_5[0][0]'\n",
      "                                                                    ]                             \n",
      "                                                                                                  \n",
      " conv1d_6 (Conv1D)           (None, None, 50)             37550     ['p_re_lu_5[0][0]']           \n",
      "                                                                                                  \n",
      " batch_normalization_6 (Bat  (None, None, 50)             200       ['conv1d_6[0][0]']            \n",
      " chNormalization)                                                                                 \n",
      "                                                                                                  \n",
      " p_re_lu_6 (PReLU)           (None, None, 50)             50        ['batch_normalization_6[0][0]'\n",
      "                                                                    ]                             \n",
      "                                                                                                  \n",
      " add_2 (Add)                 (None, None, 50)             0         ['add_1[0][0]',               \n",
      "                                                                     'p_re_lu_6[0][0]']           \n",
      "                                                                                                  \n",
      " conv1d_7 (Conv1D)           (None, None, 50)             37550     ['add_2[0][0]']               \n",
      "                                                                                                  \n",
      " batch_normalization_7 (Bat  (None, None, 50)             200       ['conv1d_7[0][0]']            \n",
      " chNormalization)                                                                                 \n",
      "                                                                                                  \n",
      " p_re_lu_7 (PReLU)           (None, None, 50)             50        ['batch_normalization_7[0][0]'\n",
      "                                                                    ]                             \n",
      "                                                                                                  \n",
      " conv1d_8 (Conv1D)           (None, None, 50)             37550     ['p_re_lu_7[0][0]']           \n",
      "                                                                                                  \n",
      " batch_normalization_8 (Bat  (None, None, 50)             200       ['conv1d_8[0][0]']            \n",
      " chNormalization)                                                                                 \n",
      "                                                                                                  \n",
      " p_re_lu_8 (PReLU)           (None, None, 50)             50        ['batch_normalization_8[0][0]'\n"
     ]
    },
    {
     "name": "stdout",
     "output_type": "stream",
     "text": [
      "                                                                    ]                             \n",
      "                                                                                                  \n",
      " add_3 (Add)                 (None, None, 50)             0         ['add_2[0][0]',               \n",
      "                                                                     'p_re_lu_8[0][0]']           \n",
      "                                                                                                  \n",
      " conv1d_9 (Conv1D)           (None, None, 50)             37550     ['add_3[0][0]']               \n",
      "                                                                                                  \n",
      " batch_normalization_9 (Bat  (None, None, 50)             200       ['conv1d_9[0][0]']            \n",
      " chNormalization)                                                                                 \n",
      "                                                                                                  \n",
      " p_re_lu_9 (PReLU)           (None, None, 50)             50        ['batch_normalization_9[0][0]'\n",
      "                                                                    ]                             \n",
      "                                                                                                  \n",
      " conv1d_10 (Conv1D)          (None, None, 50)             37550     ['p_re_lu_9[0][0]']           \n",
      "                                                                                                  \n",
      " batch_normalization_10 (Ba  (None, None, 50)             200       ['conv1d_10[0][0]']           \n",
      " tchNormalization)                                                                                \n",
      "                                                                                                  \n",
      " p_re_lu_10 (PReLU)          (None, None, 50)             50        ['batch_normalization_10[0][0]\n",
      "                                                                    ']                            \n",
      "                                                                                                  \n",
      " add_4 (Add)                 (None, None, 50)             0         ['add_3[0][0]',               \n",
      "                                                                     'p_re_lu_10[0][0]']          \n",
      "                                                                                                  \n",
      " bidirectional (Bidirection  (None, None, 340)            300560    ['add_4[0][0]']               \n",
      " al)                                                                                              \n",
      "                                                                                                  \n",
      " bidirectional_1 (Bidirecti  (None, None, 340)            694960    ['bidirectional[0][0]']       \n",
      " onal)                                                                                            \n",
      "                                                                                                  \n",
      " dense (Dense)               (None, None, 340)            115940    ['bidirectional_1[0][0]']     \n",
      "                                                                                                  \n",
      " re_lu (ReLU)                (None, None, 340)            0         ['dense[0][0]']               \n",
      "                                                                                                  \n",
      " dense_1 (Dense)             (None, None, 66)             22506     ['re_lu[0][0]']               \n",
      "                                                                                                  \n",
      " tf.nn.softmax (TFOpLambda)  (None, None, 66)             0         ['dense_1[0][0]']             \n",
      "                                                                                                  \n",
      "==================================================================================================\n",
      "Total params: 1551266 (5.92 MB)\n",
      "Trainable params: 1550166 (5.91 MB)\n",
      "Non-trainable params: 1100 (4.30 KB)\n",
      "__________________________________________________________________________________________________\n"
     ]
    }
   ],
   "source": [
    "model.summary()"
   ]
  }
 ],
 "metadata": {
  "kernelspec": {
   "display_name": "Python 3 (ipykernel)",
   "language": "python",
   "name": "python3"
  },
  "language_info": {
   "codemirror_mode": {
    "name": "ipython",
    "version": 3
   },
   "file_extension": ".py",
   "mimetype": "text/x-python",
   "name": "python",
   "nbconvert_exporter": "python",
   "pygments_lexer": "ipython3",
   "version": "3.10.9"
  }
 },
 "nbformat": 4,
 "nbformat_minor": 5
}
