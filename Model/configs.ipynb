{
 "cells": [
  {
   "cell_type": "code",
   "execution_count": 1,
   "id": "930ea331",
   "metadata": {},
   "outputs": [],
   "source": [
    "import tensorflow as tf"
   ]
  },
  {
   "cell_type": "markdown",
   "id": "0c74157c",
   "metadata": {},
   "source": [
    "# Necessary Global Configs"
   ]
  },
  {
   "cell_type": "code",
   "execution_count": 3,
   "id": "a6871cef",
   "metadata": {},
   "outputs": [],
   "source": [
    "LOAD_MFCC_FILES = True\n",
    "FRAME_SIZE = 160\n",
    "SR = 16000\n",
    "FRAME_RATE = int( SR / FRAME_SIZE )\n",
    "N_MFCC = 13\n",
    "HOP_LENGTH = 40"
   ]
  },
  {
   "cell_type": "code",
   "execution_count": 4,
   "id": "9f18b253",
   "metadata": {},
   "outputs": [],
   "source": [
    "assert FRAME_SIZE % HOP_LENGTH == 0"
   ]
  },
  {
   "cell_type": "code",
   "execution_count": 5,
   "id": "866ab66a",
   "metadata": {},
   "outputs": [],
   "source": [
    "INPUT_DIM = int(N_MFCC * (FRAME_SIZE / HOP_LENGTH))"
   ]
  },
  {
   "cell_type": "code",
   "execution_count": 6,
   "id": "7a278c0c",
   "metadata": {},
   "outputs": [],
   "source": [
    "UNQ_CHARS = [' ', 'ँ', 'ं', 'ः', 'अ', 'आ', 'इ', 'ई', 'उ', 'ऊ', 'ऋ', 'ए', 'ऐ', 'ओ', 'औ', 'क', 'ख', 'ग', 'घ', 'ङ', 'च', 'छ', 'ज', 'झ', 'ञ', 'ट', 'ठ', 'ड', 'ढ', 'ण', 'त', 'थ', 'द', 'ध', 'न', 'प', 'फ', 'ब', 'भ', 'म', 'य', 'र', 'ल', 'व', 'श', 'ष', 'स', 'ह', 'ा', 'ि', 'ी', 'ु', 'ू', 'ृ', 'े', 'ै', 'ो', 'ौ', '्', 'ॠ', '\\u200c', '\\u200d', '।']\n",
    "UNQ_CHARS = ['0', 'u' ] + sorted(UNQ_CHARS) + ['-'] #\"0\" -> padding char,\"u\" -> unknown chars \"-\" -> blank char\n",
    "NUM_UNQ_CHARS = len(UNQ_CHARS) # +1 is for '-' blank at last"
   ]
  },
  {
   "cell_type": "code",
   "execution_count": 7,
   "id": "07652730",
   "metadata": {},
   "outputs": [],
   "source": [
    "MODEL_NAME = \"ASR_model\""
   ]
  },
  {
   "cell_type": "markdown",
   "id": "c6067a58",
   "metadata": {},
   "source": [
    "# Checks for the availability of the GPU"
   ]
  },
  {
   "cell_type": "code",
   "execution_count": 9,
   "id": "c908a07b",
   "metadata": {},
   "outputs": [
    {
     "data": {
      "text/plain": [
       "''"
      ]
     },
     "execution_count": 9,
     "metadata": {},
     "output_type": "execute_result"
    }
   ],
   "source": [
    "device_name = tf.test.gpu_device_name()\n",
    "device_name"
   ]
  },
  {
   "cell_type": "code",
   "execution_count": 11,
   "id": "7ba94db6",
   "metadata": {},
   "outputs": [
    {
     "data": {
      "text/plain": [
       "'/device:CPU:0'"
      ]
     },
     "execution_count": 11,
     "metadata": {},
     "output_type": "execute_result"
    }
   ],
   "source": [
    "if device_name != '/device:GPU:0':\n",
    "    device_name = '/device:CPU:0'\n",
    "device_name"
   ]
  }
 ],
 "metadata": {
  "kernelspec": {
   "display_name": "Python 3 (ipykernel)",
   "language": "python",
   "name": "python3"
  },
  "language_info": {
   "codemirror_mode": {
    "name": "ipython",
    "version": 3
   },
   "file_extension": ".py",
   "mimetype": "text/x-python",
   "name": "python",
   "nbconvert_exporter": "python",
   "pygments_lexer": "ipython3",
   "version": "3.10.9"
  }
 },
 "nbformat": 4,
 "nbformat_minor": 5
}
