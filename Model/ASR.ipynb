{
 "cells": [
  {
   "cell_type": "code",
   "execution_count": 44,
   "id": "b1662801",
   "metadata": {},
   "outputs": [],
   "source": [
    "from tensorflow.keras import models\n",
    "import tensorflow.keras.backend as K\n",
    "import tensorflow as tf\n",
    "from sklearn.model_selection import train_test_split\n",
    "import librosa\n",
    "import pandas as pd\n",
    "import numpy as np\n",
    "from tqdm import tqdm\n",
    "import pickle\n",
    "import matplotlib.pyplot as plt\n",
    "import time\n",
    "import edit_distance as ed\n",
    "from tensorflow.keras.callbacks import ModelCheckpoint\n",
    "import os"
   ]
  },
  {
   "cell_type": "markdown",
   "id": "80fe466e",
   "metadata": {},
   "source": [
    "# Utils-------------------------------------------------------------------------------------------------"
   ]
  },
  {
   "cell_type": "code",
   "execution_count": 3,
   "id": "07795c8a",
   "metadata": {},
   "outputs": [],
   "source": [
    "device_name = '/device:GPU:0'"
   ]
  },
  {
   "cell_type": "markdown",
   "id": "0f3b0571",
   "metadata": {},
   "source": [
    "# U.0\n",
    "# Loads model from the directory argument"
   ]
  },
  {
   "cell_type": "code",
   "execution_count": 4,
   "id": "44e79181",
   "metadata": {},
   "outputs": [],
   "source": [
    "def load_model(model_dir):\n",
    "    return models.load_model(model_dir)"
   ]
  },
  {
   "cell_type": "markdown",
   "id": "6ba46692",
   "metadata": {},
   "source": [
    "# U.1\n",
    "# Loading wav file from librosa"
   ]
  },
  {
   "cell_type": "code",
   "execution_count": 5,
   "id": "07730b7d",
   "metadata": {},
   "outputs": [],
   "source": [
    "def load_wav(dir):\n",
    "    return librosa.load(dir, sr=SR)[0]"
   ]
  },
  {
   "cell_type": "markdown",
   "id": "d504e577",
   "metadata": {},
   "source": [
    "# U.2\n",
    "# Generates Normalized MFCCs from audio"
   ]
  },
  {
   "cell_type": "code",
   "execution_count": 6,
   "id": "181366b1",
   "metadata": {},
   "outputs": [],
   "source": [
    "def gen_mfcc(arr):\n",
    "    mfccs = librosa.feature.mfcc(\n",
    "        y=arr[:-1], sr=SR, n_mfcc=N_MFCC, hop_length=HOP_LENGTH).transpose().flatten()\n",
    "    return (mfccs - np.mean(mfccs)) / np.std(mfccs)"
   ]
  },
  {
   "cell_type": "markdown",
   "id": "2c84756e",
   "metadata": {},
   "source": [
    "# U.3\n",
    "# Generates padded text from list of texts"
   ]
  },
  {
   "cell_type": "code",
   "execution_count": 7,
   "id": "9b5a27d4",
   "metadata": {},
   "outputs": [],
   "source": [
    "def pad_text(list_texts, unq_chars, unk_idx=1):\n",
    "    max_len = max([len(txt) for txt in list_texts])\n",
    "    padded_arr = []\n",
    "    seq_lengths = []\n",
    "\n",
    "    for txt in list_texts:\n",
    "        len_seq = len(txt)\n",
    "        txt += \"0\" * (max_len - len_seq)\n",
    "\n",
    "        # index 1 for the unknown chars\n",
    "        arr = np.array(\n",
    "            [unq_chars.index(ch) if ch in unq_chars else unk_idx for ch in txt])\n",
    "\n",
    "        padded_arr.append(arr)\n",
    "        seq_lengths.append(len_seq)\n",
    "\n",
    "    return np.array(padded_arr), np.array(seq_lengths)"
   ]
  },
  {
   "cell_type": "markdown",
   "id": "a177c320",
   "metadata": {},
   "source": [
    "# U.4\n",
    "# Returns tensor batch*seq*frame"
   ]
  },
  {
   "cell_type": "code",
   "execution_count": 8,
   "id": "0026728f",
   "metadata": {},
   "outputs": [],
   "source": [
    "def pad_list_np(list_np):\n",
    "    max_len = max([len(arr) for arr in list_np])\n",
    "\n",
    "    # So that the numpy array can be reshaped according to the input dimension\n",
    "    max_len += INPUT_DIM - (max_len % INPUT_DIM)\n",
    "\n",
    "    padded_arr = []\n",
    "\n",
    "    for arr in list_np:\n",
    "        len_seq = len(arr)\n",
    "        arr = np.pad(arr, (0, max_len - len_seq), constant_values=0)\n",
    "        padded_arr.append(arr)\n",
    "\n",
    "    return np.array(padded_arr).reshape((len(list_np), -1, INPUT_DIM))"
   ]
  },
  {
   "cell_type": "markdown",
   "id": "02336835",
   "metadata": {},
   "source": [
    "# U.5\n",
    "# Generates batches of wavs and texts  with padding as per needed"
   ]
  },
  {
   "cell_type": "code",
   "execution_count": 9,
   "id": "cd54bea7",
   "metadata": {},
   "outputs": [],
   "source": [
    "def batchify(wavs, texts, unq_chars):\n",
    "    assert len(wavs) == len(texts)\n",
    "    # generates tensor of dim (batch * seq * frame)\n",
    "    input_tensor = pad_list_np(wavs)\n",
    "    target_tensor, target_lengths_tensor = pad_text(texts, unq_chars)\n",
    "    output_seq_lengths_tensor = np.full(\n",
    "        (len(wavs),), fill_value=input_tensor.shape[1])\n",
    "\n",
    "    return input_tensor, target_tensor, target_lengths_tensor.reshape((-1, 1)), output_seq_lengths_tensor.reshape((-1, 1))"
   ]
  },
  {
   "cell_type": "markdown",
   "id": "7ed34962",
   "metadata": {},
   "source": [
    "# U.6\n",
    "# Plots lossses from the file"
   ]
  },
  {
   "cell_type": "code",
   "execution_count": 10,
   "id": "2ec014e9",
   "metadata": {},
   "outputs": [],
   "source": [
    "def plot_losses(dir, optimal_epoch=None):\n",
    "    losses = None\n",
    "    with open(dir, \"rb\") as f:\n",
    "        losses = pickle.load(f)\n",
    "        f.close()\n",
    "\n",
    "    train_losses, test_losses = losses[\"train_losses\"], losses[\"test_losses\"]\n",
    "    epochs = len(train_losses)\n",
    "    # print(len(test_losses))\n",
    "\n",
    "    X = range(1, epochs+1)\n",
    "\n",
    "    fig, ax = plt.subplots(1, figsize=(15, 10))\n",
    "\n",
    "    fig.suptitle('Train and Test Losses', fontsize=25,)\n",
    "\n",
    "    ax.set_xlim(0, 72)\n",
    "    ax.plot(X, train_losses, color=\"red\", label=\"Train Loss\")\n",
    "    ax.plot(X, test_losses, color=\"green\", label=\"Test Loss\")\n",
    "\n",
    "    plt.rcParams.update({'font.size': 20})\n",
    "\n",
    "    plt.legend(loc=\"upper right\", frameon=False, fontsize=20)\n",
    "    # plt.xlabel(\"Epochs\",{\"size\":20})\n",
    "    # plt.ylabel(\"Loss\", {\"size\":20})\n",
    "\n",
    "    if (optimal_epoch != None):\n",
    "        plt.axvline(x=optimal_epoch, ymax=0.5)\n",
    "        # ax.plot(58, 0, 'go', label='marker only')\n",
    "        plt.text(optimal_epoch, 35,\n",
    "                 f'Optimal Epoch at {optimal_epoch}', fontsize=15)\n",
    "\n",
    "    plt.show()"
   ]
  },
  {
   "cell_type": "markdown",
   "id": "4047a774",
   "metadata": {},
   "source": [
    "# U.7\n",
    "# Decoding with prefix beam search from MFCC features only"
   ]
  },
  {
   "cell_type": "code",
   "execution_count": 11,
   "id": "e11e10ed",
   "metadata": {},
   "outputs": [],
   "source": [
    "def predict_from_mfccs(model, mfccs, unq_chars):\n",
    "\n",
    "    mfccs = pad_list_np(mfccs)  # coverts the data to 3d\n",
    "    pred = model(mfccs, training=False)\n",
    "\n",
    "    input_len = np.ones(pred.shape[0]) * pred.shape[1]\n",
    "    # Use greedy search. For complex tasks, you can use beam search\n",
    "    results = K.ctc_decode(pred, input_length=input_len,\n",
    "                           greedy=False, beam_width=100)[0][0]\n",
    "\n",
    "    sentences = []\n",
    "    char_indices = []\n",
    "    for chars_indices in results:\n",
    "\n",
    "        sent = \"\"\n",
    "        temp_indices = []\n",
    "        for idx in chars_indices:\n",
    "\n",
    "            if idx > 1:\n",
    "                sent += unq_chars[idx]\n",
    "                temp_indices.append(idx.numpy())\n",
    "        sentences.append(sent)\n",
    "        char_indices.append(temp_indices)\n",
    "    return sentences, char_indices"
   ]
  },
  {
   "cell_type": "markdown",
   "id": "92fdcbeb",
   "metadata": {},
   "source": [
    "# U.8\n",
    "# Decoding with prefix beam search from wavs only"
   ]
  },
  {
   "cell_type": "code",
   "execution_count": 12,
   "id": "13d9d6d0",
   "metadata": {},
   "outputs": [],
   "source": [
    "def predict_from_wavs(model, wavs, unq_chars):\n",
    "    mfccs = [gen_mfcc(wav) for wav in wavs]\n",
    "    return predict_from_mfccs(model, mfccs, unq_chars)"
   ]
  },
  {
   "cell_type": "markdown",
   "id": "7c481fb7",
   "metadata": {},
   "source": [
    "# U.9\n",
    "# Converts the text to list of indices as per the unique characters list"
   ]
  },
  {
   "cell_type": "code",
   "execution_count": 13,
   "id": "4bfd49dc",
   "metadata": {},
   "outputs": [],
   "source": [
    "def indices_from_texts(texts_list, unq_chars, unk_idx=1):\n",
    "\n",
    "    indices_list = []\n",
    "    for txt in texts_list:\n",
    "\n",
    "        # index 1 for the unknown chars\n",
    "        lst = [unq_chars.index(\n",
    "            ch) if ch in unq_chars else unk_idx for ch in txt]\n",
    "\n",
    "        indices_list.append(lst)\n",
    "\n",
    "    return indices_list"
   ]
  },
  {
   "cell_type": "markdown",
   "id": "5d43365a",
   "metadata": {},
   "source": [
    "'''\n",
    "Calculates CER( character error rate) from dataset;\n",
    "'''\n",
    "# U.10\n",
    "# CER from mfccs"
   ]
  },
  {
   "cell_type": "code",
   "execution_count": 14,
   "id": "a9df4cff",
   "metadata": {},
   "outputs": [],
   "source": [
    "def CER_from_mfccs(model, mfccs, texts, unq_chars, batch_size=100):\n",
    "\n",
    "    with tf.device(device_name):\n",
    "\n",
    "        len_mfccs = len(mfccs)\n",
    "        batch_count = 0\n",
    "        sum_cer = 0\n",
    "\n",
    "        start_time = time.time()\n",
    "        for start in range(0, len_mfccs, batch_size):\n",
    "            end = None\n",
    "            if start + batch_size < len_mfccs:\n",
    "                end = start + batch_size\n",
    "            else:\n",
    "                end = len_mfccs\n",
    "            pred_sentences, pred_indices = predict_from_mfccs(\n",
    "                model, mfccs[start:end], unq_chars)\n",
    "            actual_indices = indices_from_texts(texts[start:end], unq_chars)\n",
    "\n",
    "            len_batch_texts = end - start\n",
    "            batch_cer = 0\n",
    "            for i in range(len_batch_texts):\n",
    "\n",
    "                pred = pred_indices[i]\n",
    "                actu = actual_indices[i]\n",
    "\n",
    "                sm = ed.SequenceMatcher(pred, actu)\n",
    "                ed_dist = sm.distance()\n",
    "                batch_cer += ed_dist / len(actu)\n",
    "\n",
    "            batch_cer /= len_batch_texts\n",
    "            batch_count += 1\n",
    "            sum_cer += batch_cer\n",
    "\n",
    "            print(\"CER -> {:.2f}%, \\t No.of sentences -> {}, \\t Time Taken -> {:.2f} secs.\".format(\n",
    "                (sum_cer / batch_count) * 100, end, time.time() - start_time))\n",
    "\n",
    "        print(\n",
    "            \"The total time taken for all sentences CER calculation is  {:.2f} secs.\".format(time.time() - start_time))\n",
    "        return sum_cer / batch_count"
   ]
  },
  {
   "cell_type": "markdown",
   "id": "27f25b1b",
   "metadata": {},
   "source": [
    "# U.11\n",
    "# CER from wavs"
   ]
  },
  {
   "cell_type": "code",
   "execution_count": 15,
   "id": "4f0c4449",
   "metadata": {},
   "outputs": [],
   "source": [
    "def CER_from_wavs(model, wavs, texts, unq_chars, batch_size=100):\n",
    "\n",
    "    assert len(wavs) == len(texts)\n",
    "\n",
    "    len_wavs = len(wavs)\n",
    "    for i in range(len_wavs):\n",
    "        wavs[i] = gen_mfcc(wavs[i])\n",
    "\n",
    "    return CER_from_mfccs(model, wavs, texts, unq_chars, batch_size)"
   ]
  },
  {
   "cell_type": "markdown",
   "id": "fa5764c9",
   "metadata": {},
   "source": [
    "# U.12\n",
    "# CTC softmax probabilities output from mfcc features"
   ]
  },
  {
   "cell_type": "code",
   "execution_count": 16,
   "id": "8f8eb2ec",
   "metadata": {},
   "outputs": [],
   "source": [
    "def ctc_softmax_output_from_mfccs(model, mfccs):\n",
    "    mfccs = pad_list_np(mfccs)\n",
    "    y = model(mfccs)\n",
    "    return y"
   ]
  },
  {
   "cell_type": "markdown",
   "id": "5d998e59",
   "metadata": {},
   "source": [
    "# U.13\n",
    "# CTC softmax probabilities output from wavs"
   ]
  },
  {
   "cell_type": "code",
   "execution_count": 17,
   "id": "632b4a7e",
   "metadata": {},
   "outputs": [],
   "source": [
    "def ctc_softmax_output_from_wavs(model, wavs):\n",
    "    mfccs = [gen_mfcc(wav) for wav in wavs]\n",
    "    return ctc_softmax_output_from_mfccs(model, mfccs)"
   ]
  },
  {
   "cell_type": "markdown",
   "id": "c5e65180",
   "metadata": {},
   "source": [
    "# U.14\n",
    "# Clean the single audio file by clipping silent gaps from both ends"
   ]
  },
  {
   "cell_type": "code",
   "execution_count": 18,
   "id": "ce09c08e",
   "metadata": {},
   "outputs": [],
   "source": [
    "def clean_single_wav(wav, win_size=500):\n",
    "    wav_avg = np.average(np.absolute(wav))\n",
    "\n",
    "    for s in range(0, len(wav)-win_size, win_size):\n",
    "        window = wav[s:s+win_size]\n",
    "        if np.average(np.absolute(window)) > wav_avg:\n",
    "            wav = wav[s:]\n",
    "            break\n",
    "\n",
    "    for s in range(len(wav)-win_size, 0, -win_size):\n",
    "        window = wav[s-win_size:s]\n",
    "        if np.average(np.absolute(window)) > wav_avg:\n",
    "            wav = wav[:s]\n",
    "            break\n",
    "\n",
    "    pad = FRAME_SIZE - len(wav) % FRAME_SIZE\n",
    "    wav = np.pad(wav, (0, pad), mode=\"mean\")\n",
    "    return wav"
   ]
  },
  {
   "cell_type": "markdown",
   "id": "7b2eb811",
   "metadata": {},
   "source": [
    "# Necessary Global Configs-------------------------------------------------------------------------"
   ]
  },
  {
   "cell_type": "code",
   "execution_count": 19,
   "id": "98bcc593",
   "metadata": {},
   "outputs": [],
   "source": [
    "LOAD_MFCC_FILES = True\n",
    "FRAME_SIZE = 160\n",
    "SR = 16000\n",
    "FRAME_RATE = int( SR / FRAME_SIZE )\n",
    "N_MFCC = 13\n",
    "HOP_LENGTH = 40"
   ]
  },
  {
   "cell_type": "code",
   "execution_count": 20,
   "id": "5c559482",
   "metadata": {},
   "outputs": [],
   "source": [
    "assert FRAME_SIZE % HOP_LENGTH == 0"
   ]
  },
  {
   "cell_type": "code",
   "execution_count": 21,
   "id": "72569e71",
   "metadata": {},
   "outputs": [],
   "source": [
    "INPUT_DIM = int(N_MFCC * (FRAME_SIZE / HOP_LENGTH))"
   ]
  },
  {
   "cell_type": "code",
   "execution_count": 22,
   "id": "50ceeae7",
   "metadata": {},
   "outputs": [],
   "source": [
    "UNQ_CHARS = [' ', 'ँ', 'ं', 'ः', 'अ', 'आ', 'इ', 'ई', 'उ', 'ऊ', 'ऋ', 'ए', 'ऐ', 'ओ', 'औ', 'क', 'ख', 'ग', 'घ', 'ङ', 'च', 'छ', 'ज', 'झ', 'ञ', 'ट', 'ठ', 'ड', 'ढ', 'ण', 'त', 'थ', 'द', 'ध', 'न', 'प', 'फ', 'ब', 'भ', 'म', 'य', 'र', 'ल', 'व', 'श', 'ष', 'स', 'ह', 'ा', 'ि', 'ी', 'ु', 'ू', 'ृ', 'े', 'ै', 'ो', 'ौ', '्', 'ॠ', '\\u200c', '\\u200d', '।']\n",
    "UNQ_CHARS = ['0', 'u' ] + sorted(UNQ_CHARS) + ['-'] #\"0\" -> padding char,\"u\" -> unknown chars \"-\" -> blank char\n",
    "NUM_UNQ_CHARS = len(UNQ_CHARS) # +1 is for '-' blank at last"
   ]
  },
  {
   "cell_type": "code",
   "execution_count": 23,
   "id": "a29a3235",
   "metadata": {},
   "outputs": [],
   "source": [
    "MODEL_NAME = \"ASR_model\""
   ]
  },
  {
   "cell_type": "markdown",
   "id": "09092a61",
   "metadata": {},
   "source": [
    "# Checks for the availability of the GPU"
   ]
  },
  {
   "cell_type": "code",
   "execution_count": 24,
   "id": "7bef3515",
   "metadata": {},
   "outputs": [
    {
     "data": {
      "text/plain": [
       "''"
      ]
     },
     "execution_count": 24,
     "metadata": {},
     "output_type": "execute_result"
    }
   ],
   "source": [
    "device_name = tf.test.gpu_device_name()\n",
    "device_name"
   ]
  },
  {
   "cell_type": "code",
   "execution_count": 25,
   "id": "32bb6345",
   "metadata": {},
   "outputs": [
    {
     "data": {
      "text/plain": [
       "'/device:CPU:0'"
      ]
     },
     "execution_count": 25,
     "metadata": {},
     "output_type": "execute_result"
    }
   ],
   "source": [
    "if device_name != '/device:GPU:0':\n",
    "    device_name = '/device:CPU:0'\n",
    "device_name"
   ]
  },
  {
   "cell_type": "markdown",
   "id": "baacfc2a",
   "metadata": {},
   "source": [
    "# Model ----------------------------------------------------------------------------------------------"
   ]
  },
  {
   "cell_type": "code",
   "execution_count": 26,
   "id": "1fce3fba",
   "metadata": {},
   "outputs": [],
   "source": [
    "from tensorflow.keras import layers, Model, Input"
   ]
  },
  {
   "cell_type": "markdown",
   "id": "f66a400b",
   "metadata": {},
   "source": [
    "# Residual block for the model"
   ]
  },
  {
   "cell_type": "code",
   "execution_count": 27,
   "id": "073e84d3",
   "metadata": {},
   "outputs": [],
   "source": [
    "def res_block(ip, num_cnn_layers, cnn_filters, cnn_kernel_size, use_resnet):\n",
    "\n",
    "    res_arch = ip\n",
    "    for _ in range(num_cnn_layers):\n",
    "        res_arch = layers.Conv1D(\n",
    "            cnn_filters, cnn_kernel_size, padding='same')(res_arch)\n",
    "        res_arch = layers.BatchNormalization()(res_arch)\n",
    "        res_arch = layers.PReLU(shared_axes=[1])(res_arch)\n",
    "\n",
    "    return layers.add([ip, res_arch]) if use_resnet else res_arch"
   ]
  },
  {
   "cell_type": "markdown",
   "id": "a03f7497",
   "metadata": {},
   "source": [
    "# Main ASR model"
   ]
  },
  {
   "cell_type": "code",
   "execution_count": 28,
   "id": "d4d04465",
   "metadata": {},
   "outputs": [],
   "source": [
    "def get_model(ip_channel, num_classes, num_res_blocks=3, num_cnn_layers=1, cnn_filters=50,\n",
    "             cnn_kernel_size=15,  num_rnn_layers=2, rnn_dim=170, num_dense_layers=1,\n",
    "             dense_dim=300, use_birnn=True, use_resnet=True, rnn_type=\"lstm\", rnn_dropout=0.15,\n",
    "             model_name=None):\n",
    "\n",
    "    input = Input(shape=(None, ip_channel))\n",
    "\n",
    "    arch = layers.Conv1D(cnn_filters, cnn_kernel_size, padding=\"same\")(input)\n",
    "    arch = layers.BatchNormalization()(arch)\n",
    "    arch = layers.PReLU(shared_axes=[1])(arch)\n",
    "\n",
    "    for _ in range(num_res_blocks):\n",
    "        arch = res_block(arch, num_cnn_layers, cnn_filters,\n",
    "                         cnn_kernel_size, use_resnet)\n",
    "\n",
    "    rnn = layers.GRU if rnn_type == \"gru\" else layers.LSTM\n",
    "\n",
    "    for _ in range(num_rnn_layers):\n",
    "        if use_birnn:\n",
    "            arch = layers.Bidirectional(\n",
    "                rnn(rnn_dim, dropout=rnn_dropout, return_sequences=True))(arch)\n",
    "        else:\n",
    "            arch = rnn(rnn_dim, dropout=rnn_dropout,\n",
    "                       return_sequences=True)(arch)\n",
    "\n",
    "    for _ in range(num_dense_layers):\n",
    "        arch = layers.Dense(dense_dim)(arch)\n",
    "        arch = layers.ReLU()(arch)\n",
    "\n",
    "    arch = layers.Dense(num_classes)(arch)\n",
    "    output = K.softmax(arch)\n",
    "\n",
    "    model = Model(inputs=input, outputs=output, name=model_name)\n",
    "\n",
    "    return model"
   ]
  },
  {
   "cell_type": "markdown",
   "id": "dbef1bb8",
   "metadata": {},
   "source": [
    "# Defintion of the model"
   ]
  },
  {
   "cell_type": "code",
   "execution_count": 29,
   "id": "70190943",
   "metadata": {},
   "outputs": [
    {
     "name": "stdout",
     "output_type": "stream",
     "text": [
      "(2, 100, 66)\n"
     ]
    }
   ],
   "source": [
    "if __name__ == \"__main__\":\n",
    "    \n",
    "    model = get_model(INPUT_DIM, NUM_UNQ_CHARS, num_res_blocks=5, num_cnn_layers=2,\n",
    "                     cnn_filters=50, cnn_kernel_size=15, rnn_dim=170, num_rnn_layers=2,\n",
    "                     num_dense_layers=1, dense_dim=340, model_name=MODEL_NAME, rnn_type=\"lstm\",\n",
    "                     use_birnn=True)\n",
    "    x = np.random.rand(2, 100, INPUT_DIM)\n",
    "    y = model(x)\n",
    "    print(y.shape)"
   ]
  },
  {
   "cell_type": "markdown",
   "id": "a1546851",
   "metadata": {},
   "source": [
    "# Summary of model"
   ]
  },
  {
   "cell_type": "code",
   "execution_count": 29,
   "id": "cec1ef76",
   "metadata": {},
   "outputs": [
    {
     "name": "stdout",
     "output_type": "stream",
     "text": [
      "Model: \"ASR_model\"\n",
      "__________________________________________________________________________________________________\n",
      " Layer (type)                Output Shape                 Param #   Connected to                  \n",
      "==================================================================================================\n",
      " input_1 (InputLayer)        [(None, None, 52)]           0         []                            \n",
      "                                                                                                  \n",
      " conv1d (Conv1D)             (None, None, 50)             39050     ['input_1[0][0]']             \n",
      "                                                                                                  \n",
      " batch_normalization (Batch  (None, None, 50)             200       ['conv1d[0][0]']              \n",
      " Normalization)                                                                                   \n",
      "                                                                                                  \n",
      " p_re_lu (PReLU)             (None, None, 50)             50        ['batch_normalization[0][0]'] \n",
      "                                                                                                  \n",
      " conv1d_1 (Conv1D)           (None, None, 50)             37550     ['p_re_lu[0][0]']             \n",
      "                                                                                                  \n",
      " batch_normalization_1 (Bat  (None, None, 50)             200       ['conv1d_1[0][0]']            \n",
      " chNormalization)                                                                                 \n",
      "                                                                                                  \n",
      " p_re_lu_1 (PReLU)           (None, None, 50)             50        ['batch_normalization_1[0][0]'\n",
      "                                                                    ]                             \n",
      "                                                                                                  \n",
      " conv1d_2 (Conv1D)           (None, None, 50)             37550     ['p_re_lu_1[0][0]']           \n",
      "                                                                                                  \n",
      " batch_normalization_2 (Bat  (None, None, 50)             200       ['conv1d_2[0][0]']            \n",
      " chNormalization)                                                                                 \n",
      "                                                                                                  \n",
      " p_re_lu_2 (PReLU)           (None, None, 50)             50        ['batch_normalization_2[0][0]'\n",
      "                                                                    ]                             \n",
      "                                                                                                  \n",
      " add (Add)                   (None, None, 50)             0         ['p_re_lu[0][0]',             \n",
      "                                                                     'p_re_lu_2[0][0]']           \n",
      "                                                                                                  \n",
      " conv1d_3 (Conv1D)           (None, None, 50)             37550     ['add[0][0]']                 \n",
      "                                                                                                  \n",
      " batch_normalization_3 (Bat  (None, None, 50)             200       ['conv1d_3[0][0]']            \n",
      " chNormalization)                                                                                 \n",
      "                                                                                                  \n",
      " p_re_lu_3 (PReLU)           (None, None, 50)             50        ['batch_normalization_3[0][0]'\n",
      "                                                                    ]                             \n",
      "                                                                                                  \n",
      " conv1d_4 (Conv1D)           (None, None, 50)             37550     ['p_re_lu_3[0][0]']           \n",
      "                                                                                                  \n",
      " batch_normalization_4 (Bat  (None, None, 50)             200       ['conv1d_4[0][0]']            \n",
      " chNormalization)                                                                                 \n",
      "                                                                                                  \n",
      " p_re_lu_4 (PReLU)           (None, None, 50)             50        ['batch_normalization_4[0][0]'\n",
      "                                                                    ]                             \n",
      "                                                                                                  \n",
      " add_1 (Add)                 (None, None, 50)             0         ['add[0][0]',                 \n",
      "                                                                     'p_re_lu_4[0][0]']           \n",
      "                                                                                                  \n",
      " conv1d_5 (Conv1D)           (None, None, 50)             37550     ['add_1[0][0]']               \n",
      "                                                                                                  \n",
      " batch_normalization_5 (Bat  (None, None, 50)             200       ['conv1d_5[0][0]']            \n",
      " chNormalization)                                                                                 \n",
      "                                                                                                  \n",
      " p_re_lu_5 (PReLU)           (None, None, 50)             50        ['batch_normalization_5[0][0]'\n",
      "                                                                    ]                             \n",
      "                                                                                                  \n",
      " conv1d_6 (Conv1D)           (None, None, 50)             37550     ['p_re_lu_5[0][0]']           \n",
      "                                                                                                  \n",
      " batch_normalization_6 (Bat  (None, None, 50)             200       ['conv1d_6[0][0]']            \n",
      " chNormalization)                                                                                 \n",
      "                                                                                                  \n",
      " p_re_lu_6 (PReLU)           (None, None, 50)             50        ['batch_normalization_6[0][0]'\n",
      "                                                                    ]                             \n",
      "                                                                                                  \n",
      " add_2 (Add)                 (None, None, 50)             0         ['add_1[0][0]',               \n",
      "                                                                     'p_re_lu_6[0][0]']           \n",
      "                                                                                                  \n",
      " conv1d_7 (Conv1D)           (None, None, 50)             37550     ['add_2[0][0]']               \n",
      "                                                                                                  \n",
      " batch_normalization_7 (Bat  (None, None, 50)             200       ['conv1d_7[0][0]']            \n",
      " chNormalization)                                                                                 \n",
      "                                                                                                  \n",
      " p_re_lu_7 (PReLU)           (None, None, 50)             50        ['batch_normalization_7[0][0]'\n",
      "                                                                    ]                             \n",
      "                                                                                                  \n",
      " conv1d_8 (Conv1D)           (None, None, 50)             37550     ['p_re_lu_7[0][0]']           \n",
      "                                                                                                  \n",
      " batch_normalization_8 (Bat  (None, None, 50)             200       ['conv1d_8[0][0]']            \n",
      " chNormalization)                                                                                 \n",
      "                                                                                                  \n",
      " p_re_lu_8 (PReLU)           (None, None, 50)             50        ['batch_normalization_8[0][0]'\n"
     ]
    },
    {
     "name": "stdout",
     "output_type": "stream",
     "text": [
      "                                                                    ]                             \n",
      "                                                                                                  \n",
      " add_3 (Add)                 (None, None, 50)             0         ['add_2[0][0]',               \n",
      "                                                                     'p_re_lu_8[0][0]']           \n",
      "                                                                                                  \n",
      " conv1d_9 (Conv1D)           (None, None, 50)             37550     ['add_3[0][0]']               \n",
      "                                                                                                  \n",
      " batch_normalization_9 (Bat  (None, None, 50)             200       ['conv1d_9[0][0]']            \n",
      " chNormalization)                                                                                 \n",
      "                                                                                                  \n",
      " p_re_lu_9 (PReLU)           (None, None, 50)             50        ['batch_normalization_9[0][0]'\n",
      "                                                                    ]                             \n",
      "                                                                                                  \n",
      " conv1d_10 (Conv1D)          (None, None, 50)             37550     ['p_re_lu_9[0][0]']           \n",
      "                                                                                                  \n",
      " batch_normalization_10 (Ba  (None, None, 50)             200       ['conv1d_10[0][0]']           \n",
      " tchNormalization)                                                                                \n",
      "                                                                                                  \n",
      " p_re_lu_10 (PReLU)          (None, None, 50)             50        ['batch_normalization_10[0][0]\n",
      "                                                                    ']                            \n",
      "                                                                                                  \n",
      " add_4 (Add)                 (None, None, 50)             0         ['add_3[0][0]',               \n",
      "                                                                     'p_re_lu_10[0][0]']          \n",
      "                                                                                                  \n",
      " bidirectional (Bidirection  (None, None, 340)            300560    ['add_4[0][0]']               \n",
      " al)                                                                                              \n",
      "                                                                                                  \n",
      " bidirectional_1 (Bidirecti  (None, None, 340)            694960    ['bidirectional[0][0]']       \n",
      " onal)                                                                                            \n",
      "                                                                                                  \n",
      " dense (Dense)               (None, None, 340)            115940    ['bidirectional_1[0][0]']     \n",
      "                                                                                                  \n",
      " re_lu (ReLU)                (None, None, 340)            0         ['dense[0][0]']               \n",
      "                                                                                                  \n",
      " dense_1 (Dense)             (None, None, 66)             22506     ['re_lu[0][0]']               \n",
      "                                                                                                  \n",
      " tf.nn.softmax (TFOpLambda)  (None, None, 66)             0         ['dense_1[0][0]']             \n",
      "                                                                                                  \n",
      "==================================================================================================\n",
      "Total params: 1551266 (5.92 MB)\n",
      "Trainable params: 1550166 (5.91 MB)\n",
      "Non-trainable params: 1100 (4.30 KB)\n",
      "__________________________________________________________________________________________________\n"
     ]
    }
   ],
   "source": [
    "model.summary()"
   ]
  },
  {
   "cell_type": "markdown",
   "id": "40633faa",
   "metadata": {},
   "source": [
    "# Training"
   ]
  },
  {
   "cell_type": "code",
   "execution_count": 45,
   "id": "85356947",
   "metadata": {},
   "outputs": [],
   "source": [
    "def train_model(model, optimizer, train_wavs, train_texts, test_wavs, test_texts, epochs=100, batch_size=50):\n",
    "    train_losses = []\n",
    "    test_losses = []\n",
    "\n",
    "    with tf.device(device_name):  # Assuming device_name is defined somewhere\n",
    " # Define a callback to save the model checkpoints\n",
    "        checkpoint_filepath = 'model/checkpoints/model_checkpoint.h5'\n",
    "        if checkpoint_filepath is not None:\n",
    "            model_checkpoint_callback = ModelCheckpoint(\n",
    "                filepath=checkpoint_filepath,\n",
    "                save_weights_only=True,\n",
    "                monitor='val_loss',\n",
    "                mode='min',\n",
    "                save_best_only=True\n",
    "            )\n",
    "        for e in range(0,epochs):\n",
    "            start_time = time.time()\n",
    "\n",
    "            len_train = len(train_wavs)\n",
    "            len_test = len(test_wavs)\n",
    "            train_loss = 0\n",
    "            test_loss = 0\n",
    "            test_CER = 0\n",
    "            train_batch_count = 0\n",
    "            test_batch_count = 0\n",
    "\n",
    "            print(\"Training epoch: {}\".format(e+1))\n",
    "            for start in tqdm(range(0, len_train, batch_size)):\n",
    "\n",
    "                end = min(start + batch_size, len_train)\n",
    "                x, target, target_lengths, output_lengths = batchify(\n",
    "                    train_wavs[start:end], train_texts[start:end], UNQ_CHARS)\n",
    "\n",
    "                with tf.GradientTape() as tape:\n",
    "                    output = model(x, training=True)\n",
    "\n",
    "                    loss = K.ctc_batch_cost(\n",
    "                        target, output, output_lengths, target_lengths)\n",
    "\n",
    "                grads = tape.gradient(loss, model.trainable_weights)\n",
    "                optimizer.apply_gradients(zip(grads, model.trainable_weights))\n",
    "\n",
    "                train_loss += np.average(loss.numpy())\n",
    "                train_batch_count += 1\n",
    "\n",
    "            print(\"Testing epoch: {}\".format(e+1))\n",
    "            for start in tqdm(range(0, len_test, batch_size)):\n",
    "\n",
    "                end = min(start + batch_size, len_test)\n",
    "                x, target, target_lengths, output_lengths = batchify(\n",
    "                    test_wavs[start:end], test_texts[start:end], UNQ_CHARS)\n",
    "\n",
    "                output = model(x, training=False)\n",
    "\n",
    "                # Calculate CTC Loss\n",
    "                loss = K.ctc_batch_cost(\n",
    "                    target, output, output_lengths, target_lengths)\n",
    "\n",
    "                test_loss += np.average(loss.numpy())\n",
    "                test_batch_count += 1\n",
    "\n",
    "                \"\"\"\n",
    "                    The line of codes below is for computing evaluation metric (CER) on internal validation data.\n",
    "                \"\"\"\n",
    "                input_len = np.ones(output.shape[0]) * output.shape[1]\n",
    "                decoded_indices = K.ctc_decode(output, input_length=input_len,\n",
    "                                       greedy=False, beam_width=100)[0][0]\n",
    "                \n",
    "                # Remove the padding token from batchified target texts\n",
    "                target_indices = [sent[sent != 0].tolist() for sent in target]\n",
    "\n",
    "                # Remove the padding, unknown token, and blank token from predicted texts\n",
    "                predicted_indices = [sent[sent > 1].numpy().tolist() for sent in decoded_indices] # idx 0: padding token, idx 1: unknown, idx -1: blank token\n",
    "\n",
    "                len_batch = end - start\n",
    "                for i in range(len_batch):\n",
    "\n",
    "                    pred = predicted_indices[i]\n",
    "                    truth = target_indices[i]\n",
    "                    sm = ed.SequenceMatcher(pred, truth)\n",
    "                    ed_dist = sm.distance()                 # Edit distance\n",
    "                    test_CER += ed_dist / len(truth)\n",
    "                test_CER /= len_batch\n",
    "\n",
    "            train_loss /= train_batch_count\n",
    "            test_loss /= test_batch_count\n",
    "            test_CER /= test_batch_count\n",
    "            \n",
    "            train_losses.append(train_loss)\n",
    "            test_losses.append(test_loss)\n",
    "\n",
    "            rec = \"Epoch: {}, Train Loss: {:.2f}, Test Loss {:.2f}, Test CER {:.2f} % in {:.2f} secs.\\n\".format(\n",
    "                e+1, train_loss, test_loss, test_CER*100, time.time() - start_time)\n",
    "\n",
    "            print(rec)\n",
    "# Save the final trained model\n",
    "            if checkpoint_filepath is not None:\n",
    "                model.save(checkpoint_filepath, include_optimizer=True)            \n",
    "     # Save the final losses to a pickle file\n",
    "    losses_data = {\n",
    "        'train_losses': train_losses,\n",
    "        'test_losses': test_losses\n",
    "    }\n",
    "\n",
    "    with open('losses.pkl', 'wb') as f:\n",
    "        pickle.dump(losses_data, f)\n",
    "\n",
    "    # Save the final trained model\n",
    "    model.save(\"model/trained_model_v1.h5\", include_optimizer=True)"
   ]
  },
  {
   "cell_type": "code",
   "execution_count": 46,
   "id": "45059d4a",
   "metadata": {},
   "outputs": [],
   "source": [
    "def load_data(wavs_dir, texts_dir):\n",
    "    texts_df = pd.read_csv(texts_dir)\n",
    "    train_wavs = []\n",
    "    for f_name in texts_df[\"file\"]:\n",
    "        wav, _ = librosa.load(f\"{wavs_dir}/{f_name}.flac\", sr=SR)\n",
    "        train_wavs.append(wav)\n",
    "    train_texts = texts_df[\"text\"].tolist()\n",
    "    return train_wavs, train_texts\n",
    "\n",
    "# def load_data(wavs_dir, texts_dir):\n",
    "#     texts_df = pd.read_csv(texts_dir)\n",
    "#     train_wavs = []\n",
    "#     train_texts = []\n",
    "\n",
    "#     for f_name in texts_df[\"file\"]:\n",
    "#         try:\n",
    "#             wav, _ = librosa.load(f\"{wavs_dir}/{f_name}.flac\", sr=SR)\n",
    "#             train_wavs.append(wav)\n",
    "#             train_texts.append(texts_df[texts_df[\"file\"] == f_name][\"text\"].values[0])\n",
    "#         except Exception as e:\n",
    "#             print(f\"Error loading file {f_name}: {e}\")\n",
    "\n",
    "#     return train_wavs, train_texts\n"
   ]
  },
  {
   "cell_type": "markdown",
   "id": "1f7bf93f",
   "metadata": {},
   "source": [
    "# Defintion of the model"
   ]
  },
  {
   "cell_type": "code",
   "execution_count": 47,
   "id": "590fa9b7",
   "metadata": {},
   "outputs": [
    {
     "name": "stdout",
     "output_type": "stream",
     "text": [
      "Model defined ✅ ✅ ✅ ✅\n",
      "\n"
     ]
    }
   ],
   "source": [
    "model = get_model(INPUT_DIM, NUM_UNQ_CHARS, num_res_blocks=5, num_cnn_layers=2,\n",
    "                      cnn_filters=50, cnn_kernel_size=15, rnn_dim=170, rnn_dropout=0.15, num_rnn_layers=2,\n",
    "                      num_dense_layers=1, dense_dim=340, model_name=MODEL_NAME, rnn_type=\"lstm\",\n",
    "                      use_birnn=True)\n",
    "print(\"Model defined \\u2705 \\u2705 \\u2705 \\u2705\\n\")"
   ]
  },
  {
   "cell_type": "markdown",
   "id": "0a1c6375",
   "metadata": {},
   "source": [
    " # Defintion of the optimizer"
   ]
  },
  {
   "cell_type": "code",
   "execution_count": 48,
   "id": "a4d9b7f1",
   "metadata": {},
   "outputs": [],
   "source": [
    "optimizer = tf.keras.optimizers.Adam()\n",
    "loss = 'categorical_crossentropy'\n",
    "metrics = ['accuracy']"
   ]
  },
  {
   "cell_type": "markdown",
   "id": "04c5d495",
   "metadata": {},
   "source": [
    "# Load the data"
   ]
  },
  {
   "cell_type": "code",
   "execution_count": 35,
   "id": "4ee276b8",
   "metadata": {},
   "outputs": [
    {
     "name": "stdout",
     "output_type": "stream",
     "text": [
      "Loading data.....\n",
      "Data loaded ✅ ✅ ✅ ✅\n",
      "\n"
     ]
    }
   ],
   "source": [
    "print(\"Loading data.....\")\n",
    "train_wavs, train_texts = load_data(wavs_dir=\"dataset/wav_files(sampled)\", texts_dir=\"dataset/transcriptions(sampled)/file_speaker_text(sampled).csv\")\n",
    "print(\"Data loaded \\u2705 \\u2705 \\u2705 \\u2705\\n\")"
   ]
  },
  {
   "cell_type": "markdown",
   "id": "9efef014",
   "metadata": {},
   "source": [
    "# Clean the audio file by removing the silent gaps from the both ends the audio file"
   ]
  },
  {
   "cell_type": "code",
   "execution_count": 36,
   "id": "8825e789",
   "metadata": {},
   "outputs": [
    {
     "name": "stdout",
     "output_type": "stream",
     "text": [
      "Cleaning the audio files.....\n",
      "Audio files cleaned ✅ ✅ ✅ ✅\n",
      "\n"
     ]
    },
    {
     "data": {
      "text/plain": [
       "[array([ 1.8005371e-03,  2.3193359e-03,  2.4414062e-03, ...,\n",
       "        -5.7573766e-06, -5.7573766e-06, -5.7573766e-06], dtype=float32),\n",
       " array([ 3.2196045e-02,  4.5593262e-02,  5.3833008e-02, ...,\n",
       "        -5.0090207e-06, -5.0090207e-06, -5.0090207e-06], dtype=float32),\n",
       " array([-5.7983398e-04,  7.6293945e-04,  6.1035156e-05, ...,\n",
       "        -5.9117820e-06, -5.9117820e-06, -5.9117820e-06], dtype=float32),\n",
       " array([-2.6733398e-02, -2.7770996e-02, -2.9327393e-02, ...,\n",
       "        -4.3437790e-06, -4.3437790e-06, -4.3437790e-06], dtype=float32),\n",
       " array([-2.5299072e-02, -2.4932861e-02, -2.3712158e-02, ...,\n",
       "        -4.4921876e-06, -4.4921876e-06, -4.4921876e-06], dtype=float32),\n",
       " array([-3.3508301e-02, -2.5238037e-02, -2.2949219e-02, ...,\n",
       "         1.4448364e-06,  1.4448364e-06,  1.4448364e-06], dtype=float32),\n",
       " array([-1.0284424e-02, -1.4831543e-02, -1.9409180e-02, ...,\n",
       "        -2.2604054e-05, -2.2604054e-05, -2.2604054e-05], dtype=float32),\n",
       " array([-5.3924561e-02,  1.4953613e-02,  2.4749756e-02, ...,\n",
       "        -3.3317476e-05, -3.3317476e-05, -3.3317476e-05], dtype=float32),\n",
       " array([ 1.1126709e-01, -1.2145996e-01,  5.0384521e-02, ...,\n",
       "         1.5994285e-06,  1.5994285e-06,  1.5994285e-06], dtype=float32),\n",
       " array([ 3.7231445e-03,  3.0517578e-03,  3.6621094e-04, ...,\n",
       "        -2.6568576e-05, -2.6568576e-05, -2.6568576e-05], dtype=float32),\n",
       " array([ 2.3284912e-02,  1.9256592e-02,  1.5014648e-02, ...,\n",
       "        -7.2273447e-06, -7.2273447e-06, -7.2273447e-06], dtype=float32),\n",
       " array([-1.3549805e-02, -1.2420654e-02, -1.0314941e-02, ...,\n",
       "        -8.6787713e-06, -8.6787713e-06, -8.6787713e-06], dtype=float32),\n",
       " array([-1.2817383e-03,  3.8757324e-03,  3.6926270e-03, ...,\n",
       "        -8.8440547e-06, -8.8440547e-06, -8.8440547e-06], dtype=float32),\n",
       " array([-5.1879883e-04,  5.4931641e-04,  3.3569336e-04, ...,\n",
       "        -7.9186484e-06, -7.9186484e-06, -7.9186484e-06], dtype=float32),\n",
       " array([ 2.8076172e-03, -5.7983398e-04,  1.4953613e-03, ...,\n",
       "        -5.7856241e-06, -5.7856241e-06, -5.7856241e-06], dtype=float32),\n",
       " array([ 8.6669922e-03, -4.7302246e-03, -2.2277832e-03, ...,\n",
       "        -1.1136952e-05, -1.1136952e-05, -1.1136952e-05], dtype=float32),\n",
       " array([-1.2512207e-03, -3.3569336e-04,  1.8310547e-04, ...,\n",
       "        -1.5157626e-06, -1.5157626e-06, -1.5157626e-06], dtype=float32),\n",
       " array([ 1.8615723e-03,  6.4086914e-04,  2.7465820e-04, ...,\n",
       "        -4.9510081e-06, -4.9510081e-06, -4.9510081e-06], dtype=float32),\n",
       " array([-3.1127930e-03, -1.4953613e-03, -1.2207031e-04, ...,\n",
       "        -1.0176266e-05, -1.0176266e-05, -1.0176266e-05], dtype=float32),\n",
       " array([-1.3916016e-02, -4.8828125e-03,  3.0822754e-03, ...,\n",
       "        -6.3601651e-06, -6.3601651e-06, -6.3601651e-06], dtype=float32),\n",
       " array([-1.0009766e-02, -1.4648438e-03,  2.7160645e-03, ...,\n",
       "         5.2975383e-06,  5.2975383e-06,  5.2975383e-06], dtype=float32),\n",
       " array([-1.3397217e-02, -1.1260986e-02, -1.3153076e-02, ...,\n",
       "        -2.4459216e-05, -2.4459216e-05, -2.4459216e-05], dtype=float32),\n",
       " array([ 1.8768311e-02,  1.7761230e-02,  1.6723633e-02, ...,\n",
       "        -9.2517718e-07, -9.2517718e-07, -9.2517718e-07], dtype=float32),\n",
       " array([-3.6926270e-03, -3.5400391e-03, -3.1433105e-03, ...,\n",
       "        -1.5797592e-05, -1.5797592e-05, -1.5797592e-05], dtype=float32),\n",
       " array([ 1.1108398e-02,  9.9487305e-03,  8.7890625e-03, ...,\n",
       "        -1.7691349e-08, -1.7691349e-08, -1.7691349e-08], dtype=float32),\n",
       " array([-3.2653809e-03, -2.6855469e-03, -4.2724609e-03, ...,\n",
       "        -4.3043747e-06, -4.3043747e-06, -4.3043747e-06], dtype=float32),\n",
       " array([-5.1574707e-03,  2.4108887e-03,  4.8828125e-04, ...,\n",
       "        -9.5236574e-06, -9.5236574e-06, -9.5236574e-06], dtype=float32),\n",
       " array([ 2.2277832e-03,  7.9345703e-03, -4.2724609e-03, ...,\n",
       "        -6.2311651e-06, -6.2311651e-06, -6.2311651e-06], dtype=float32),\n",
       " array([-1.8310547e-04, -2.1362305e-04, -4.8828125e-04, ...,\n",
       "         3.9918959e-06,  3.9918959e-06,  3.9918959e-06], dtype=float32),\n",
       " array([-2.1972656e-03, -3.2958984e-03, -4.6691895e-03, ...,\n",
       "         3.6704932e-06,  3.6704932e-06,  3.6704932e-06], dtype=float32),\n",
       " array([ 1.5258789e-04,  3.0517578e-05,  2.4414062e-04, ...,\n",
       "        -4.8409656e-06, -4.8409656e-06, -4.8409656e-06], dtype=float32),\n",
       " array([ 1.2207031e-04,  3.0517578e-05,  5.7983398e-04, ...,\n",
       "        -1.0367760e-05, -1.0367760e-05, -1.0367760e-05], dtype=float32),\n",
       " array([ 6.4086914e-04,  1.2207031e-04, -1.0070801e-03, ...,\n",
       "        -2.2570635e-05, -2.2570635e-05, -2.2570635e-05], dtype=float32),\n",
       " array([-1.5991211e-02, -1.5167236e-02, -1.3977051e-02, ...,\n",
       "        -3.4293482e-06, -3.4293482e-06, -3.4293482e-06], dtype=float32),\n",
       " array([-3.3569336e-04, -4.2724609e-04, -4.8828125e-04, ...,\n",
       "        -7.2995858e-06, -7.2995858e-06, -7.2995858e-06], dtype=float32),\n",
       " array([-2.0141602e-03,  2.0141602e-03, -6.4086914e-04, ...,\n",
       "         1.6348702e-08,  1.6348702e-08,  1.6348702e-08], dtype=float32),\n",
       " array([ 2.94189453e-02,  1.38549805e-02, -2.04467773e-02, ...,\n",
       "        -6.93855691e-06, -6.93855691e-06, -6.93855691e-06], dtype=float32),\n",
       " array([ 2.8991699e-03,  2.8686523e-03,  2.8686523e-03, ...,\n",
       "        -4.7291865e-06, -4.7291865e-06, -4.7291865e-06], dtype=float32),\n",
       " array([-1.4617920e-02, -2.2277832e-03, -8.5144043e-03, ...,\n",
       "        -2.9124385e-06, -2.9124385e-06, -2.9124385e-06], dtype=float32),\n",
       " array([ 4.6997070e-03,  8.3312988e-03,  3.5400391e-03, ...,\n",
       "        -1.1068176e-05, -1.1068176e-05, -1.1068176e-05], dtype=float32)]"
      ]
     },
     "execution_count": 36,
     "metadata": {},
     "output_type": "execute_result"
    }
   ],
   "source": [
    "print(\"Cleaning the audio files.....\")\n",
    "train_wavs = [clean_single_wav(wav) for wav in train_wavs]\n",
    "print(\"Audio files cleaned \\u2705 \\u2705 \\u2705 \\u2705\\n\")\n",
    "train_wavs"
   ]
  },
  {
   "cell_type": "markdown",
   "id": "308bbc42",
   "metadata": {},
   "source": [
    "# Generate mfcc features for the audio files"
   ]
  },
  {
   "cell_type": "code",
   "execution_count": 37,
   "id": "1f6cd536",
   "metadata": {},
   "outputs": [
    {
     "name": "stdout",
     "output_type": "stream",
     "text": [
      "Generating mfcc features.....\n",
      "MFCC features generated ✅ ✅ ✅ ✅\n",
      "\n"
     ]
    },
    {
     "data": {
      "text/plain": [
       "[array([-4.796408  ,  1.5434637 ,  0.636496  , ..., -0.09425944,\n",
       "         0.34669274,  0.33026385], dtype=float32),\n",
       " array([-3.1955981 ,  1.217868  ,  0.621759  , ...,  0.6174974 ,\n",
       "         0.17604741, -0.05681407], dtype=float32),\n",
       " array([-3.1990135 ,  1.1079593 ,  0.6238055 , ..., -0.04251979,\n",
       "         0.11003518,  0.09648506], dtype=float32),\n",
       " array([-3.7469773 ,  1.7098516 ,  0.46088555, ...,  0.29264623,\n",
       "         0.252809  ,  0.3118067 ], dtype=float32),\n",
       " array([-3.8844001 ,  2.0760522 ,  0.7067117 , ...,  0.27621436,\n",
       "         0.13850644,  0.32015398], dtype=float32),\n",
       " array([-3.2187698 ,  1.1329865 ,  0.6421117 , ...,  0.08824953,\n",
       "         0.26802835,  0.27487585], dtype=float32),\n",
       " array([-3.6637573 ,  1.3264847 ,  0.9430076 , ...,  0.11223838,\n",
       "         0.23151182,  0.13336673], dtype=float32),\n",
       " array([-4.0937696 , -0.17164868,  1.0485486 , ...,  0.19568054,\n",
       "         0.44634715,  0.10186896], dtype=float32),\n",
       " array([-2.822823  ,  0.6948634 ,  1.493339  , ...,  0.2614791 ,\n",
       "         0.2706865 ,  0.32897028], dtype=float32),\n",
       " array([-2.624257  ,  1.9023324 ,  0.20730565, ...,  0.0564819 ,\n",
       "         0.41605172, -0.09221944], dtype=float32),\n",
       " array([-2.6703143 ,  1.3824004 ,  0.20900518, ...,  0.16245544,\n",
       "         0.33047944,  0.14983678], dtype=float32),\n",
       " array([-3.643052  ,  1.5292543 ,  0.7178931 , ...,  0.1760489 ,\n",
       "         0.13303268,  0.09710132], dtype=float32),\n",
       " array([-3.3171606 ,  1.4855875 ,  0.22572346, ...,  0.08386363,\n",
       "         0.24397331,  0.18269609], dtype=float32),\n",
       " array([-3.4078481 ,  1.3713253 ,  0.15598074, ...,  0.17126766,\n",
       "         0.4148221 ,  0.12439705], dtype=float32),\n",
       " array([-3.272587  ,  0.87285274,  0.28925225, ...,  0.13163953,\n",
       "         0.40336055,  0.2036374 ], dtype=float32),\n",
       " array([-3.9085612 , -0.92177117,  0.94004923, ...,  0.3818596 ,\n",
       "         0.21211785,  0.09689856], dtype=float32),\n",
       " array([-5.2842765 ,  1.8284373 ,  0.7925528 , ...,  0.04542205,\n",
       "         0.11547901,  0.170975  ], dtype=float32),\n",
       " array([-4.1152143 , -0.27704653,  1.0643649 , ...,  0.15545031,\n",
       "         0.24800071,  0.32076475], dtype=float32),\n",
       " array([-1.8837454 ,  2.0661426 , -0.7657657 , ...,  0.19430591,\n",
       "         0.22065146,  0.2044443 ], dtype=float32),\n",
       " array([-3.5650277 ,  0.8489768 ,  0.5147963 , ...,  0.0103938 ,\n",
       "         0.20322834,  0.04185473], dtype=float32),\n",
       " array([-2.958249  ,  1.7135895 ,  0.6984534 , ...,  0.26260608,\n",
       "         0.3422515 ,  0.16850208], dtype=float32),\n",
       " array([-3.3826237 ,  0.9767532 ,  1.0285432 , ...,  0.18135442,\n",
       "         0.21220922,  0.14308609], dtype=float32),\n",
       " array([-3.8761647 ,  1.4757751 ,  0.6953011 , ...,  0.33698648,\n",
       "         0.08674362,  0.42150825], dtype=float32),\n",
       " array([-3.330508  ,  1.6686226 ,  0.266409  , ...,  0.20036806,\n",
       "         0.38539255,  0.279857  ], dtype=float32),\n",
       " array([-3.9776378 ,  1.6204625 ,  0.61070347, ...,  0.3181262 ,\n",
       "         0.31530425,  0.27286518], dtype=float32),\n",
       " array([-2.642243  ,  1.3243577 ,  0.12829354, ...,  0.25845015,\n",
       "         0.23060341,  0.2577417 ], dtype=float32),\n",
       " array([-2.7378657 ,  1.6622255 ,  0.21466917, ...,  0.09300359,\n",
       "         0.11740318,  0.15738793], dtype=float32),\n",
       " array([-2.9584703 , -0.06555403,  0.71385103, ...,  0.11916407,\n",
       "         0.17515923,  0.10596479], dtype=float32),\n",
       " array([-4.1774707 ,  2.3830671 ,  0.31827366, ...,  0.20989485,\n",
       "         0.34118506,  0.14155757], dtype=float32),\n",
       " array([-4.069203  ,  1.4360524 ,  0.77579206, ..., -0.07525378,\n",
       "         0.12949751,  0.24464609], dtype=float32),\n",
       " array([-3.611545  ,  1.915321  ,  0.11304256, ...,  0.12153777,\n",
       "         0.20780942,  0.38169813], dtype=float32),\n",
       " array([-4.676533  ,  1.3451722 ,  0.58484244, ...,  0.08221464,\n",
       "         0.22618905,  0.16781937], dtype=float32),\n",
       " array([-4.5864897 ,  2.3208292 ,  0.88161165, ...,  0.18247642,\n",
       "         0.25182092,  0.04873684], dtype=float32),\n",
       " array([-3.5841897 ,  0.82740134,  0.8046005 , ...,  0.257508  ,\n",
       "         0.12021556, -0.07458424], dtype=float32),\n",
       " array([-4.194393  ,  1.3869642 ,  0.73607355, ...,  0.11896221,\n",
       "         0.14819165,  0.14359881], dtype=float32),\n",
       " array([-4.356793  , -0.28607622,  0.8401378 , ...,  0.3024898 ,\n",
       "         0.09577537,  0.05414342], dtype=float32),\n",
       " array([-2.4344363 ,  1.763116  ,  0.21782984, ...,  0.21194772,\n",
       "         0.32434633,  0.25852042], dtype=float32),\n",
       " array([-3.9597592 ,  1.3120984 ,  0.44778335, ...,  0.11155485,\n",
       "         0.26063004,  0.2532691 ], dtype=float32),\n",
       " array([-3.2289412 ,  1.3191748 ,  0.35976663, ..., -0.02250664,\n",
       "        -0.10933948,  0.18809257], dtype=float32),\n",
       " array([-2.9829638 ,  0.48964104,  0.70243335, ...,  0.31670836,\n",
       "         0.3313113 ,  0.05615155], dtype=float32)]"
      ]
     },
     "execution_count": 37,
     "metadata": {},
     "output_type": "execute_result"
    }
   ],
   "source": [
    "print(\"Generating mfcc features.....\")\n",
    "train_wavs = [gen_mfcc(wav) for wav in train_wavs]\n",
    "print(\"MFCC features generated \\u2705 \\u2705 \\u2705 \\u2705\\n\")\n",
    "train_wavs"
   ]
  },
  {
   "cell_type": "markdown",
   "id": "29ce9ac4",
   "metadata": {},
   "source": [
    "# Train Test Split"
   ]
  },
  {
   "cell_type": "code",
   "execution_count": 38,
   "id": "3ec8ba5f",
   "metadata": {},
   "outputs": [],
   "source": [
    "train_wavs, test_wavs, train_texts, test_texts = train_test_split(train_wavs,\n",
    "                                                                  train_texts,\n",
    "                                                                  test_size=0.2)\n",
    "#train_wavs\n",
    "#test_wavs\n",
    "#train_texts\n",
    "#test_textsb"
   ]
  },
  {
   "cell_type": "markdown",
   "id": "67d1c27f",
   "metadata": {},
   "source": [
    "# Load Checkpoint and train "
   ]
  },
  {
   "cell_type": "code",
   "execution_count": null,
   "id": "fc31da05",
   "metadata": {},
   "outputs": [],
   "source": [
    "# Load the checkpointed model\n",
    "checkpoint_filepath = 'model/checkpoints/model_checkpoint.h5'\n",
    "loaded_model = get_model(INPUT_DIM, NUM_UNQ_CHARS, num_res_blocks=5, num_cnn_layers=2,\n",
    "                          cnn_filters=50, cnn_kernel_size=15, rnn_dim=170, rnn_dropout=0.15, num_rnn_layers=2,\n",
    "                          num_dense_layers=1, dense_dim=340, model_name=MODEL_NAME, rnn_type=\"lstm\",\n",
    "                          use_birnn=True)\n",
    "loaded_model.load_weights(checkpoint_filepath)\n",
    "\n",
    "# Continue training with a different epoch size\n",
    "train_model(loaded_model, optimizer, train_wavs, train_texts,\n",
    "            test_wavs, test_texts, epochs=additional_epochs, batch_size=50, checkpoint_filepath=checkpoint_filepath)\n"
   ]
  },
  {
   "cell_type": "markdown",
   "id": "f4215d60",
   "metadata": {},
   "source": [
    "# Load Previous Model"
   ]
  },
  {
   "cell_type": "code",
   "execution_count": 38,
   "id": "dcc07f75",
   "metadata": {},
   "outputs": [
    {
     "name": "stdout",
     "output_type": "stream",
     "text": [
      "Loading model.....\n",
      "Model loaded ✅ ✅ ✅ ✅\n",
      "\n"
     ]
    },
    {
     "data": {
      "text/plain": [
       "<keras.src.engine.functional.Functional at 0x163ccdbe170>"
      ]
     },
     "execution_count": 38,
     "metadata": {},
     "output_type": "execute_result"
    }
   ],
   "source": [
    "print(\"Loading model.....\")\n",
    "model = load_model(\"model/trained_model_v1.h5\")\n",
    "model.compile(optimizer, loss, metrics)\n",
    "print(\"Model loaded \\u2705 \\u2705 \\u2705 \\u2705\\n\")\n",
    "model"
   ]
  },
  {
   "cell_type": "markdown",
   "id": "491ef59f",
   "metadata": {},
   "source": [
    "# Train the model\n"
   ]
  },
  {
   "cell_type": "code",
   "execution_count": null,
   "id": "0186d91a",
   "metadata": {
    "scrolled": true
   },
   "outputs": [
    {
     "name": "stdout",
     "output_type": "stream",
     "text": [
      "Training epoch: 1\n"
     ]
    },
    {
     "name": "stderr",
     "output_type": "stream",
     "text": [
      "100%|████████████████████████████████████████████████████████████████████████████████████| 1/1 [00:28<00:00, 28.29s/it]\n"
     ]
    },
    {
     "name": "stdout",
     "output_type": "stream",
     "text": [
      "Testing epoch: 1\n"
     ]
    },
    {
     "name": "stderr",
     "output_type": "stream",
     "text": [
      "100%|████████████████████████████████████████████████████████████████████████████████████| 1/1 [00:01<00:00,  1.90s/it]"
     ]
    },
    {
     "name": "stdout",
     "output_type": "stream",
     "text": [
      "Epoch: 1, Train Loss: 78.28, Test Loss 78.22, Test CER 98.64 % in 30.19 secs.\n",
      "\n",
      "WARNING:tensorflow:Compiled the loaded model, but the compiled metrics have yet to be built. `model.compile_metrics` will be empty until you train or evaluate the model.\n"
     ]
    },
    {
     "name": "stderr",
     "output_type": "stream",
     "text": [
      "\n",
      "C:\\Users\\Dell\\anaconda3\\lib\\site-packages\\keras\\src\\engine\\training.py:3000: UserWarning: You are saving your model as an HDF5 file via `model.save()`. This file format is considered legacy. We recommend using instead the native Keras format, e.g. `model.save('my_model.keras')`.\n",
      "  saving_api.save_model(\n"
     ]
    },
    {
     "name": "stdout",
     "output_type": "stream",
     "text": [
      "Training epoch: 2\n"
     ]
    },
    {
     "name": "stderr",
     "output_type": "stream",
     "text": [
      "100%|████████████████████████████████████████████████████████████████████████████████████| 1/1 [00:32<00:00, 32.93s/it]\n"
     ]
    },
    {
     "name": "stdout",
     "output_type": "stream",
     "text": [
      "Testing epoch: 2\n"
     ]
    },
    {
     "name": "stderr",
     "output_type": "stream",
     "text": [
      "100%|████████████████████████████████████████████████████████████████████████████████████| 1/1 [00:01<00:00,  1.64s/it]"
     ]
    },
    {
     "name": "stdout",
     "output_type": "stream",
     "text": [
      "Epoch: 2, Train Loss: 77.21, Test Loss 77.42, Test CER 99.29 % in 34.58 secs.\n",
      "\n",
      "WARNING:tensorflow:Compiled the loaded model, but the compiled metrics have yet to be built. `model.compile_metrics` will be empty until you train or evaluate the model.\n"
     ]
    },
    {
     "name": "stderr",
     "output_type": "stream",
     "text": [
      "\n"
     ]
    },
    {
     "name": "stdout",
     "output_type": "stream",
     "text": [
      "Training epoch: 3\n"
     ]
    },
    {
     "name": "stderr",
     "output_type": "stream",
     "text": [
      "100%|████████████████████████████████████████████████████████████████████████████████████| 1/1 [00:31<00:00, 31.75s/it]\n"
     ]
    },
    {
     "name": "stdout",
     "output_type": "stream",
     "text": [
      "Testing epoch: 3\n"
     ]
    },
    {
     "name": "stderr",
     "output_type": "stream",
     "text": [
      "100%|████████████████████████████████████████████████████████████████████████████████████| 1/1 [00:03<00:00,  3.50s/it]"
     ]
    },
    {
     "name": "stdout",
     "output_type": "stream",
     "text": [
      "Epoch: 3, Train Loss: 73.79, Test Loss 77.98, Test CER 100.00 % in 35.26 secs.\n",
      "\n",
      "WARNING:tensorflow:Compiled the loaded model, but the compiled metrics have yet to be built. `model.compile_metrics` will be empty until you train or evaluate the model.\n"
     ]
    },
    {
     "name": "stderr",
     "output_type": "stream",
     "text": [
      "\n"
     ]
    },
    {
     "name": "stdout",
     "output_type": "stream",
     "text": [
      "Training epoch: 4\n"
     ]
    },
    {
     "name": "stderr",
     "output_type": "stream",
     "text": [
      "100%|████████████████████████████████████████████████████████████████████████████████████| 1/1 [00:24<00:00, 24.34s/it]\n"
     ]
    },
    {
     "name": "stdout",
     "output_type": "stream",
     "text": [
      "Testing epoch: 4\n"
     ]
    },
    {
     "name": "stderr",
     "output_type": "stream",
     "text": [
      "100%|████████████████████████████████████████████████████████████████████████████████████| 1/1 [00:01<00:00,  1.51s/it]"
     ]
    },
    {
     "name": "stdout",
     "output_type": "stream",
     "text": [
      "Epoch: 4, Train Loss: 72.25, Test Loss 75.80, Test CER 98.98 % in 25.87 secs.\n",
      "\n",
      "WARNING:tensorflow:Compiled the loaded model, but the compiled metrics have yet to be built. `model.compile_metrics` will be empty until you train or evaluate the model.\n"
     ]
    },
    {
     "name": "stderr",
     "output_type": "stream",
     "text": [
      "\n"
     ]
    },
    {
     "name": "stdout",
     "output_type": "stream",
     "text": [
      "Training epoch: 5\n"
     ]
    },
    {
     "name": "stderr",
     "output_type": "stream",
     "text": [
      "100%|████████████████████████████████████████████████████████████████████████████████████| 1/1 [00:22<00:00, 22.68s/it]\n"
     ]
    },
    {
     "name": "stdout",
     "output_type": "stream",
     "text": [
      "Testing epoch: 5\n"
     ]
    },
    {
     "name": "stderr",
     "output_type": "stream",
     "text": [
      "100%|████████████████████████████████████████████████████████████████████████████████████| 1/1 [00:01<00:00,  1.52s/it]"
     ]
    },
    {
     "name": "stdout",
     "output_type": "stream",
     "text": [
      "Epoch: 5, Train Loss: 70.82, Test Loss 72.23, Test CER 94.25 % in 24.20 secs.\n",
      "\n",
      "WARNING:tensorflow:Compiled the loaded model, but the compiled metrics have yet to be built. `model.compile_metrics` will be empty until you train or evaluate the model.\n"
     ]
    },
    {
     "name": "stderr",
     "output_type": "stream",
     "text": [
      "\n"
     ]
    },
    {
     "name": "stdout",
     "output_type": "stream",
     "text": [
      "Training epoch: 6\n"
     ]
    },
    {
     "name": "stderr",
     "output_type": "stream",
     "text": [
      "100%|████████████████████████████████████████████████████████████████████████████████████| 1/1 [00:25<00:00, 25.51s/it]\n"
     ]
    },
    {
     "name": "stdout",
     "output_type": "stream",
     "text": [
      "Testing epoch: 6\n"
     ]
    },
    {
     "name": "stderr",
     "output_type": "stream",
     "text": [
      "100%|████████████████████████████████████████████████████████████████████████████████████| 1/1 [00:02<00:00,  2.02s/it]"
     ]
    },
    {
     "name": "stdout",
     "output_type": "stream",
     "text": [
      "Epoch: 6, Train Loss: 69.50, Test Loss 70.02, Test CER 90.76 % in 27.53 secs.\n",
      "\n",
      "WARNING:tensorflow:Compiled the loaded model, but the compiled metrics have yet to be built. `model.compile_metrics` will be empty until you train or evaluate the model.\n"
     ]
    },
    {
     "name": "stderr",
     "output_type": "stream",
     "text": [
      "\n"
     ]
    },
    {
     "name": "stdout",
     "output_type": "stream",
     "text": [
      "Training epoch: 7\n"
     ]
    },
    {
     "name": "stderr",
     "output_type": "stream",
     "text": [
      "100%|████████████████████████████████████████████████████████████████████████████████████| 1/1 [00:23<00:00, 23.06s/it]\n"
     ]
    },
    {
     "name": "stdout",
     "output_type": "stream",
     "text": [
      "Testing epoch: 7\n"
     ]
    },
    {
     "name": "stderr",
     "output_type": "stream",
     "text": [
      "100%|████████████████████████████████████████████████████████████████████████████████████| 1/1 [00:01<00:00,  1.51s/it]"
     ]
    },
    {
     "name": "stdout",
     "output_type": "stream",
     "text": [
      "Epoch: 7, Train Loss: 69.53, Test Loss 69.94, Test CER 91.78 % in 24.60 secs.\n",
      "\n",
      "WARNING:tensorflow:Compiled the loaded model, but the compiled metrics have yet to be built. `model.compile_metrics` will be empty until you train or evaluate the model.\n"
     ]
    },
    {
     "name": "stderr",
     "output_type": "stream",
     "text": [
      "\n"
     ]
    },
    {
     "name": "stdout",
     "output_type": "stream",
     "text": [
      "Training epoch: 8\n"
     ]
    },
    {
     "name": "stderr",
     "output_type": "stream",
     "text": [
      "100%|████████████████████████████████████████████████████████████████████████████████████| 1/1 [00:22<00:00, 22.49s/it]\n"
     ]
    },
    {
     "name": "stdout",
     "output_type": "stream",
     "text": [
      "Testing epoch: 8\n"
     ]
    },
    {
     "name": "stderr",
     "output_type": "stream",
     "text": [
      "100%|████████████████████████████████████████████████████████████████████████████████████| 1/1 [00:01<00:00,  1.54s/it]"
     ]
    },
    {
     "name": "stdout",
     "output_type": "stream",
     "text": [
      "Epoch: 8, Train Loss: 68.57, Test Loss 70.59, Test CER 94.25 % in 24.04 secs.\n",
      "\n",
      "WARNING:tensorflow:Compiled the loaded model, but the compiled metrics have yet to be built. `model.compile_metrics` will be empty until you train or evaluate the model.\n"
     ]
    },
    {
     "name": "stderr",
     "output_type": "stream",
     "text": [
      "\n"
     ]
    },
    {
     "name": "stdout",
     "output_type": "stream",
     "text": [
      "Training epoch: 9\n"
     ]
    },
    {
     "name": "stderr",
     "output_type": "stream",
     "text": [
      "100%|████████████████████████████████████████████████████████████████████████████████████| 1/1 [00:24<00:00, 24.57s/it]\n"
     ]
    },
    {
     "name": "stdout",
     "output_type": "stream",
     "text": [
      "Testing epoch: 9\n"
     ]
    },
    {
     "name": "stderr",
     "output_type": "stream",
     "text": [
      "100%|████████████████████████████████████████████████████████████████████████████████████| 1/1 [00:01<00:00,  1.76s/it]"
     ]
    },
    {
     "name": "stdout",
     "output_type": "stream",
     "text": [
      "Epoch: 9, Train Loss: 68.16, Test Loss 70.38, Test CER 94.25 % in 26.34 secs.\n",
      "\n",
      "WARNING:tensorflow:Compiled the loaded model, but the compiled metrics have yet to be built. `model.compile_metrics` will be empty until you train or evaluate the model.\n"
     ]
    },
    {
     "name": "stderr",
     "output_type": "stream",
     "text": [
      "\n"
     ]
    },
    {
     "name": "stdout",
     "output_type": "stream",
     "text": [
      "Training epoch: 10\n"
     ]
    },
    {
     "name": "stderr",
     "output_type": "stream",
     "text": [
      "100%|████████████████████████████████████████████████████████████████████████████████████| 1/1 [00:24<00:00, 24.07s/it]\n"
     ]
    },
    {
     "name": "stdout",
     "output_type": "stream",
     "text": [
      "Testing epoch: 10\n"
     ]
    },
    {
     "name": "stderr",
     "output_type": "stream",
     "text": [
      "100%|████████████████████████████████████████████████████████████████████████████████████| 1/1 [00:01<00:00,  1.50s/it]"
     ]
    },
    {
     "name": "stdout",
     "output_type": "stream",
     "text": [
      "Epoch: 10, Train Loss: 67.95, Test Loss 68.98, Test CER 94.25 % in 25.57 secs.\n",
      "\n",
      "WARNING:tensorflow:Compiled the loaded model, but the compiled metrics have yet to be built. `model.compile_metrics` will be empty until you train or evaluate the model.\n"
     ]
    },
    {
     "name": "stderr",
     "output_type": "stream",
     "text": [
      "\n"
     ]
    },
    {
     "name": "stdout",
     "output_type": "stream",
     "text": [
      "Training epoch: 11\n"
     ]
    },
    {
     "name": "stderr",
     "output_type": "stream",
     "text": [
      "100%|████████████████████████████████████████████████████████████████████████████████████| 1/1 [00:23<00:00, 23.23s/it]\n"
     ]
    },
    {
     "name": "stdout",
     "output_type": "stream",
     "text": [
      "Testing epoch: 11\n"
     ]
    },
    {
     "name": "stderr",
     "output_type": "stream",
     "text": [
      "100%|████████████████████████████████████████████████████████████████████████████████████| 1/1 [00:01<00:00,  1.61s/it]"
     ]
    },
    {
     "name": "stdout",
     "output_type": "stream",
     "text": [
      "Epoch: 11, Train Loss: 67.29, Test Loss 68.22, Test CER 94.25 % in 24.85 secs.\n",
      "\n",
      "WARNING:tensorflow:Compiled the loaded model, but the compiled metrics have yet to be built. `model.compile_metrics` will be empty until you train or evaluate the model.\n"
     ]
    },
    {
     "name": "stderr",
     "output_type": "stream",
     "text": [
      "\n"
     ]
    },
    {
     "name": "stdout",
     "output_type": "stream",
     "text": [
      "Training epoch: 12\n"
     ]
    },
    {
     "name": "stderr",
     "output_type": "stream",
     "text": [
      "100%|████████████████████████████████████████████████████████████████████████████████████| 1/1 [00:27<00:00, 27.01s/it]\n"
     ]
    },
    {
     "name": "stdout",
     "output_type": "stream",
     "text": [
      "Testing epoch: 12\n"
     ]
    },
    {
     "name": "stderr",
     "output_type": "stream",
     "text": [
      "100%|████████████████████████████████████████████████████████████████████████████████████| 1/1 [00:02<00:00,  2.30s/it]"
     ]
    },
    {
     "name": "stdout",
     "output_type": "stream",
     "text": [
      "Epoch: 12, Train Loss: 67.20, Test Loss 68.13, Test CER 93.75 % in 29.31 secs.\n",
      "\n",
      "WARNING:tensorflow:Compiled the loaded model, but the compiled metrics have yet to be built. `model.compile_metrics` will be empty until you train or evaluate the model.\n"
     ]
    },
    {
     "name": "stderr",
     "output_type": "stream",
     "text": [
      "\n"
     ]
    },
    {
     "name": "stdout",
     "output_type": "stream",
     "text": [
      "Training epoch: 13\n"
     ]
    },
    {
     "name": "stderr",
     "output_type": "stream",
     "text": [
      "100%|████████████████████████████████████████████████████████████████████████████████████| 1/1 [00:35<00:00, 35.42s/it]\n"
     ]
    },
    {
     "name": "stdout",
     "output_type": "stream",
     "text": [
      "Testing epoch: 13\n"
     ]
    },
    {
     "name": "stderr",
     "output_type": "stream",
     "text": [
      "100%|████████████████████████████████████████████████████████████████████████████████████| 1/1 [00:03<00:00,  3.00s/it]"
     ]
    },
    {
     "name": "stdout",
     "output_type": "stream",
     "text": [
      "Epoch: 13, Train Loss: 67.02, Test Loss 68.08, Test CER 94.25 % in 38.43 secs.\n",
      "\n",
      "WARNING:tensorflow:Compiled the loaded model, but the compiled metrics have yet to be built. `model.compile_metrics` will be empty until you train or evaluate the model.\n"
     ]
    },
    {
     "name": "stderr",
     "output_type": "stream",
     "text": [
      "\n"
     ]
    },
    {
     "name": "stdout",
     "output_type": "stream",
     "text": [
      "Training epoch: 14\n"
     ]
    },
    {
     "name": "stderr",
     "output_type": "stream",
     "text": [
      "100%|████████████████████████████████████████████████████████████████████████████████████| 1/1 [00:33<00:00, 33.92s/it]\n"
     ]
    },
    {
     "name": "stdout",
     "output_type": "stream",
     "text": [
      "Testing epoch: 14\n"
     ]
    },
    {
     "name": "stderr",
     "output_type": "stream",
     "text": [
      "100%|████████████████████████████████████████████████████████████████████████████████████| 1/1 [00:02<00:00,  2.17s/it]"
     ]
    },
    {
     "name": "stdout",
     "output_type": "stream",
     "text": [
      "Epoch: 14, Train Loss: 66.56, Test Loss 68.19, Test CER 94.25 % in 36.10 secs.\n",
      "\n",
      "WARNING:tensorflow:Compiled the loaded model, but the compiled metrics have yet to be built. `model.compile_metrics` will be empty until you train or evaluate the model.\n"
     ]
    },
    {
     "name": "stderr",
     "output_type": "stream",
     "text": [
      "\n"
     ]
    },
    {
     "name": "stdout",
     "output_type": "stream",
     "text": [
      "Training epoch: 15\n"
     ]
    },
    {
     "name": "stderr",
     "output_type": "stream",
     "text": [
      "100%|████████████████████████████████████████████████████████████████████████████████████| 1/1 [00:31<00:00, 31.41s/it]\n"
     ]
    },
    {
     "name": "stdout",
     "output_type": "stream",
     "text": [
      "Testing epoch: 15\n"
     ]
    },
    {
     "name": "stderr",
     "output_type": "stream",
     "text": [
      "100%|████████████████████████████████████████████████████████████████████████████████████| 1/1 [00:02<00:00,  2.19s/it]"
     ]
    },
    {
     "name": "stdout",
     "output_type": "stream",
     "text": [
      "Epoch: 15, Train Loss: 66.53, Test Loss 68.01, Test CER 94.25 % in 33.61 secs.\n",
      "\n",
      "WARNING:tensorflow:Compiled the loaded model, but the compiled metrics have yet to be built. `model.compile_metrics` will be empty until you train or evaluate the model.\n"
     ]
    },
    {
     "name": "stderr",
     "output_type": "stream",
     "text": [
      "\n"
     ]
    },
    {
     "name": "stdout",
     "output_type": "stream",
     "text": [
      "Training epoch: 16\n"
     ]
    },
    {
     "name": "stderr",
     "output_type": "stream",
     "text": [
      "100%|████████████████████████████████████████████████████████████████████████████████████| 1/1 [00:34<00:00, 34.14s/it]\n"
     ]
    },
    {
     "name": "stdout",
     "output_type": "stream",
     "text": [
      "Testing epoch: 16\n"
     ]
    },
    {
     "name": "stderr",
     "output_type": "stream",
     "text": [
      "100%|████████████████████████████████████████████████████████████████████████████████████| 1/1 [00:01<00:00,  1.96s/it]"
     ]
    },
    {
     "name": "stdout",
     "output_type": "stream",
     "text": [
      "Epoch: 16, Train Loss: 66.27, Test Loss 68.12, Test CER 93.15 % in 36.11 secs.\n",
      "\n",
      "WARNING:tensorflow:Compiled the loaded model, but the compiled metrics have yet to be built. `model.compile_metrics` will be empty until you train or evaluate the model.\n"
     ]
    },
    {
     "name": "stderr",
     "output_type": "stream",
     "text": [
      "\n"
     ]
    },
    {
     "name": "stdout",
     "output_type": "stream",
     "text": [
      "Training epoch: 17\n"
     ]
    },
    {
     "name": "stderr",
     "output_type": "stream",
     "text": [
      "100%|████████████████████████████████████████████████████████████████████████████████████| 1/1 [00:29<00:00, 29.86s/it]\n"
     ]
    },
    {
     "name": "stdout",
     "output_type": "stream",
     "text": [
      "Testing epoch: 17\n"
     ]
    },
    {
     "name": "stderr",
     "output_type": "stream",
     "text": [
      "100%|████████████████████████████████████████████████████████████████████████████████████| 1/1 [00:01<00:00,  1.56s/it]"
     ]
    },
    {
     "name": "stdout",
     "output_type": "stream",
     "text": [
      "Epoch: 17, Train Loss: 66.05, Test Loss 68.56, Test CER 90.00 % in 31.42 secs.\n",
      "\n",
      "WARNING:tensorflow:Compiled the loaded model, but the compiled metrics have yet to be built. `model.compile_metrics` will be empty until you train or evaluate the model.\n"
     ]
    },
    {
     "name": "stderr",
     "output_type": "stream",
     "text": [
      "\n"
     ]
    },
    {
     "name": "stdout",
     "output_type": "stream",
     "text": [
      "Training epoch: 18\n"
     ]
    },
    {
     "name": "stderr",
     "output_type": "stream",
     "text": [
      "100%|████████████████████████████████████████████████████████████████████████████████████| 1/1 [00:34<00:00, 34.29s/it]\n"
     ]
    },
    {
     "name": "stdout",
     "output_type": "stream",
     "text": [
      "Testing epoch: 18\n"
     ]
    },
    {
     "name": "stderr",
     "output_type": "stream",
     "text": [
      "100%|████████████████████████████████████████████████████████████████████████████████████| 1/1 [00:01<00:00,  1.87s/it]"
     ]
    },
    {
     "name": "stdout",
     "output_type": "stream",
     "text": [
      "Epoch: 18, Train Loss: 66.05, Test Loss 68.39, Test CER 92.47 % in 36.17 secs.\n",
      "\n",
      "WARNING:tensorflow:Compiled the loaded model, but the compiled metrics have yet to be built. `model.compile_metrics` will be empty until you train or evaluate the model.\n"
     ]
    },
    {
     "name": "stderr",
     "output_type": "stream",
     "text": [
      "\n"
     ]
    },
    {
     "name": "stdout",
     "output_type": "stream",
     "text": [
      "Training epoch: 19\n"
     ]
    },
    {
     "name": "stderr",
     "output_type": "stream",
     "text": [
      "100%|████████████████████████████████████████████████████████████████████████████████████| 1/1 [00:29<00:00, 29.44s/it]\n"
     ]
    },
    {
     "name": "stdout",
     "output_type": "stream",
     "text": [
      "Testing epoch: 19\n"
     ]
    },
    {
     "name": "stderr",
     "output_type": "stream",
     "text": [
      "100%|████████████████████████████████████████████████████████████████████████████████████| 1/1 [00:01<00:00,  1.56s/it]"
     ]
    },
    {
     "name": "stdout",
     "output_type": "stream",
     "text": [
      "Epoch: 19, Train Loss: 65.77, Test Loss 68.19, Test CER 93.07 % in 31.01 secs.\n",
      "\n",
      "WARNING:tensorflow:Compiled the loaded model, but the compiled metrics have yet to be built. `model.compile_metrics` will be empty until you train or evaluate the model.\n"
     ]
    },
    {
     "name": "stderr",
     "output_type": "stream",
     "text": [
      "\n"
     ]
    },
    {
     "name": "stdout",
     "output_type": "stream",
     "text": [
      "Training epoch: 20\n"
     ]
    },
    {
     "name": "stderr",
     "output_type": "stream",
     "text": [
      "100%|████████████████████████████████████████████████████████████████████████████████████| 1/1 [00:25<00:00, 25.26s/it]\n"
     ]
    },
    {
     "name": "stdout",
     "output_type": "stream",
     "text": [
      "Testing epoch: 20\n"
     ]
    },
    {
     "name": "stderr",
     "output_type": "stream",
     "text": [
      "100%|████████████████████████████████████████████████████████████████████████████████████| 1/1 [00:01<00:00,  1.60s/it]"
     ]
    },
    {
     "name": "stdout",
     "output_type": "stream",
     "text": [
      "Epoch: 20, Train Loss: 65.71, Test Loss 68.36, Test CER 93.07 % in 26.86 secs.\n",
      "\n",
      "WARNING:tensorflow:Compiled the loaded model, but the compiled metrics have yet to be built. `model.compile_metrics` will be empty until you train or evaluate the model.\n"
     ]
    },
    {
     "name": "stderr",
     "output_type": "stream",
     "text": [
      "\n"
     ]
    },
    {
     "name": "stdout",
     "output_type": "stream",
     "text": [
      "Training epoch: 21\n"
     ]
    },
    {
     "name": "stderr",
     "output_type": "stream",
     "text": [
      "100%|████████████████████████████████████████████████████████████████████████████████████| 1/1 [00:24<00:00, 24.77s/it]\n"
     ]
    },
    {
     "name": "stdout",
     "output_type": "stream",
     "text": [
      "Testing epoch: 21\n"
     ]
    },
    {
     "name": "stderr",
     "output_type": "stream",
     "text": [
      "100%|████████████████████████████████████████████████████████████████████████████████████| 1/1 [00:01<00:00,  1.97s/it]"
     ]
    },
    {
     "name": "stdout",
     "output_type": "stream",
     "text": [
      "Epoch: 21, Train Loss: 65.59, Test Loss 68.96, Test CER 91.48 % in 26.74 secs.\n",
      "\n",
      "WARNING:tensorflow:Compiled the loaded model, but the compiled metrics have yet to be built. `model.compile_metrics` will be empty until you train or evaluate the model.\n"
     ]
    },
    {
     "name": "stderr",
     "output_type": "stream",
     "text": [
      "\n"
     ]
    },
    {
     "name": "stdout",
     "output_type": "stream",
     "text": [
      "Training epoch: 22\n"
     ]
    },
    {
     "name": "stderr",
     "output_type": "stream",
     "text": [
      "100%|████████████████████████████████████████████████████████████████████████████████████| 1/1 [00:26<00:00, 26.53s/it]\n"
     ]
    },
    {
     "name": "stdout",
     "output_type": "stream",
     "text": [
      "Testing epoch: 22\n"
     ]
    },
    {
     "name": "stderr",
     "output_type": "stream",
     "text": [
      "100%|████████████████████████████████████████████████████████████████████████████████████| 1/1 [00:01<00:00,  1.60s/it]"
     ]
    },
    {
     "name": "stdout",
     "output_type": "stream",
     "text": [
      "Epoch: 22, Train Loss: 65.42, Test Loss 69.44, Test CER 88.26 % in 28.15 secs.\n",
      "\n",
      "WARNING:tensorflow:Compiled the loaded model, but the compiled metrics have yet to be built. `model.compile_metrics` will be empty until you train or evaluate the model.\n"
     ]
    },
    {
     "name": "stderr",
     "output_type": "stream",
     "text": [
      "\n"
     ]
    },
    {
     "name": "stdout",
     "output_type": "stream",
     "text": [
      "Training epoch: 23\n"
     ]
    },
    {
     "name": "stderr",
     "output_type": "stream",
     "text": [
      "100%|████████████████████████████████████████████████████████████████████████████████████| 1/1 [00:28<00:00, 28.88s/it]\n"
     ]
    },
    {
     "name": "stdout",
     "output_type": "stream",
     "text": [
      "Testing epoch: 23\n"
     ]
    },
    {
     "name": "stderr",
     "output_type": "stream",
     "text": [
      "100%|████████████████████████████████████████████████████████████████████████████████████| 1/1 [00:01<00:00,  1.62s/it]"
     ]
    },
    {
     "name": "stdout",
     "output_type": "stream",
     "text": [
      "Epoch: 23, Train Loss: 65.42, Test Loss 69.07, Test CER 89.65 % in 30.49 secs.\n",
      "\n",
      "WARNING:tensorflow:Compiled the loaded model, but the compiled metrics have yet to be built. `model.compile_metrics` will be empty until you train or evaluate the model.\n"
     ]
    },
    {
     "name": "stderr",
     "output_type": "stream",
     "text": [
      "\n"
     ]
    },
    {
     "name": "stdout",
     "output_type": "stream",
     "text": [
      "Training epoch: 24\n"
     ]
    },
    {
     "name": "stderr",
     "output_type": "stream",
     "text": [
      "100%|████████████████████████████████████████████████████████████████████████████████████| 1/1 [00:34<00:00, 34.44s/it]\n"
     ]
    },
    {
     "name": "stdout",
     "output_type": "stream",
     "text": [
      "Testing epoch: 24\n"
     ]
    },
    {
     "name": "stderr",
     "output_type": "stream",
     "text": [
      "100%|████████████████████████████████████████████████████████████████████████████████████| 1/1 [00:01<00:00,  1.99s/it]"
     ]
    },
    {
     "name": "stdout",
     "output_type": "stream",
     "text": [
      "Epoch: 24, Train Loss: 65.25, Test Loss 68.66, Test CER 91.85 % in 36.43 secs.\n",
      "\n",
      "WARNING:tensorflow:Compiled the loaded model, but the compiled metrics have yet to be built. `model.compile_metrics` will be empty until you train or evaluate the model.\n"
     ]
    },
    {
     "name": "stderr",
     "output_type": "stream",
     "text": [
      "\n"
     ]
    },
    {
     "name": "stdout",
     "output_type": "stream",
     "text": [
      "Training epoch: 25\n"
     ]
    },
    {
     "name": "stderr",
     "output_type": "stream",
     "text": [
      "100%|████████████████████████████████████████████████████████████████████████████████████| 1/1 [00:27<00:00, 27.31s/it]\n"
     ]
    },
    {
     "name": "stdout",
     "output_type": "stream",
     "text": [
      "Testing epoch: 25\n"
     ]
    },
    {
     "name": "stderr",
     "output_type": "stream",
     "text": [
      "100%|████████████████████████████████████████████████████████████████████████████████████| 1/1 [00:01<00:00,  1.88s/it]"
     ]
    },
    {
     "name": "stdout",
     "output_type": "stream",
     "text": [
      "Epoch: 25, Train Loss: 65.22, Test Loss 68.59, Test CER 91.21 % in 29.20 secs.\n",
      "\n",
      "WARNING:tensorflow:Compiled the loaded model, but the compiled metrics have yet to be built. `model.compile_metrics` will be empty until you train or evaluate the model.\n"
     ]
    },
    {
     "name": "stderr",
     "output_type": "stream",
     "text": [
      "\n"
     ]
    },
    {
     "name": "stdout",
     "output_type": "stream",
     "text": [
      "Training epoch: 26\n"
     ]
    },
    {
     "name": "stderr",
     "output_type": "stream",
     "text": [
      "100%|████████████████████████████████████████████████████████████████████████████████████| 1/1 [00:26<00:00, 26.75s/it]\n"
     ]
    },
    {
     "name": "stdout",
     "output_type": "stream",
     "text": [
      "Testing epoch: 26\n"
     ]
    },
    {
     "name": "stderr",
     "output_type": "stream",
     "text": [
      "100%|████████████████████████████████████████████████████████████████████████████████████| 1/1 [00:01<00:00,  1.93s/it]"
     ]
    },
    {
     "name": "stdout",
     "output_type": "stream",
     "text": [
      "Epoch: 26, Train Loss: 65.11, Test Loss 68.83, Test CER 90.76 % in 28.68 secs.\n",
      "\n",
      "WARNING:tensorflow:Compiled the loaded model, but the compiled metrics have yet to be built. `model.compile_metrics` will be empty until you train or evaluate the model.\n"
     ]
    },
    {
     "name": "stderr",
     "output_type": "stream",
     "text": [
      "\n"
     ]
    },
    {
     "name": "stdout",
     "output_type": "stream",
     "text": [
      "Training epoch: 27\n"
     ]
    },
    {
     "name": "stderr",
     "output_type": "stream",
     "text": [
      "100%|████████████████████████████████████████████████████████████████████████████████████| 1/1 [00:28<00:00, 28.93s/it]\n"
     ]
    },
    {
     "name": "stdout",
     "output_type": "stream",
     "text": [
      "Testing epoch: 27\n"
     ]
    },
    {
     "name": "stderr",
     "output_type": "stream",
     "text": [
      "100%|████████████████████████████████████████████████████████████████████████████████████| 1/1 [00:02<00:00,  2.22s/it]"
     ]
    },
    {
     "name": "stdout",
     "output_type": "stream",
     "text": [
      "Epoch: 27, Train Loss: 64.98, Test Loss 68.83, Test CER 94.25 % in 31.16 secs.\n",
      "\n",
      "WARNING:tensorflow:Compiled the loaded model, but the compiled metrics have yet to be built. `model.compile_metrics` will be empty until you train or evaluate the model.\n"
     ]
    },
    {
     "name": "stderr",
     "output_type": "stream",
     "text": [
      "\n"
     ]
    },
    {
     "name": "stdout",
     "output_type": "stream",
     "text": [
      "Training epoch: 28\n"
     ]
    },
    {
     "name": "stderr",
     "output_type": "stream",
     "text": [
      "100%|████████████████████████████████████████████████████████████████████████████████████| 1/1 [00:28<00:00, 28.58s/it]\n"
     ]
    },
    {
     "name": "stdout",
     "output_type": "stream",
     "text": [
      "Testing epoch: 28\n"
     ]
    },
    {
     "name": "stderr",
     "output_type": "stream",
     "text": [
      "100%|████████████████████████████████████████████████████████████████████████████████████| 1/1 [00:01<00:00,  1.85s/it]"
     ]
    },
    {
     "name": "stdout",
     "output_type": "stream",
     "text": [
      "Epoch: 28, Train Loss: 64.90, Test Loss 68.42, Test CER 94.25 % in 30.44 secs.\n",
      "\n",
      "WARNING:tensorflow:Compiled the loaded model, but the compiled metrics have yet to be built. `model.compile_metrics` will be empty until you train or evaluate the model.\n"
     ]
    },
    {
     "name": "stderr",
     "output_type": "stream",
     "text": [
      "\n"
     ]
    },
    {
     "name": "stdout",
     "output_type": "stream",
     "text": [
      "Training epoch: 29\n"
     ]
    },
    {
     "name": "stderr",
     "output_type": "stream",
     "text": [
      "100%|████████████████████████████████████████████████████████████████████████████████████| 1/1 [00:27<00:00, 27.53s/it]\n"
     ]
    },
    {
     "name": "stdout",
     "output_type": "stream",
     "text": [
      "Testing epoch: 29\n"
     ]
    },
    {
     "name": "stderr",
     "output_type": "stream",
     "text": [
      "100%|████████████████████████████████████████████████████████████████████████████████████| 1/1 [00:02<00:00,  2.80s/it]"
     ]
    },
    {
     "name": "stdout",
     "output_type": "stream",
     "text": [
      "Epoch: 29, Train Loss: 64.79, Test Loss 68.17, Test CER 94.25 % in 30.35 secs.\n",
      "\n",
      "WARNING:tensorflow:Compiled the loaded model, but the compiled metrics have yet to be built. `model.compile_metrics` will be empty until you train or evaluate the model.\n"
     ]
    },
    {
     "name": "stderr",
     "output_type": "stream",
     "text": [
      "\n"
     ]
    },
    {
     "name": "stdout",
     "output_type": "stream",
     "text": [
      "Training epoch: 30\n"
     ]
    },
    {
     "name": "stderr",
     "output_type": "stream",
     "text": [
      "100%|████████████████████████████████████████████████████████████████████████████████████| 1/1 [00:27<00:00, 27.46s/it]\n"
     ]
    },
    {
     "name": "stdout",
     "output_type": "stream",
     "text": [
      "Testing epoch: 30\n"
     ]
    },
    {
     "name": "stderr",
     "output_type": "stream",
     "text": [
      "100%|████████████████████████████████████████████████████████████████████████████████████| 1/1 [00:01<00:00,  1.83s/it]"
     ]
    },
    {
     "name": "stdout",
     "output_type": "stream",
     "text": [
      "Epoch: 30, Train Loss: 64.72, Test Loss 68.27, Test CER 94.25 % in 29.29 secs.\n",
      "\n",
      "WARNING:tensorflow:Compiled the loaded model, but the compiled metrics have yet to be built. `model.compile_metrics` will be empty until you train or evaluate the model.\n"
     ]
    },
    {
     "name": "stderr",
     "output_type": "stream",
     "text": [
      "\n"
     ]
    },
    {
     "name": "stdout",
     "output_type": "stream",
     "text": [
      "Training epoch: 31\n"
     ]
    },
    {
     "name": "stderr",
     "output_type": "stream",
     "text": [
      "100%|████████████████████████████████████████████████████████████████████████████████████| 1/1 [00:32<00:00, 32.31s/it]\n"
     ]
    },
    {
     "name": "stdout",
     "output_type": "stream",
     "text": [
      "Testing epoch: 31\n"
     ]
    },
    {
     "name": "stderr",
     "output_type": "stream",
     "text": [
      "100%|████████████████████████████████████████████████████████████████████████████████████| 1/1 [00:01<00:00,  1.85s/it]"
     ]
    },
    {
     "name": "stdout",
     "output_type": "stream",
     "text": [
      "Epoch: 31, Train Loss: 64.60, Test Loss 68.51, Test CER 94.25 % in 34.17 secs.\n",
      "\n",
      "WARNING:tensorflow:Compiled the loaded model, but the compiled metrics have yet to be built. `model.compile_metrics` will be empty until you train or evaluate the model.\n"
     ]
    },
    {
     "name": "stderr",
     "output_type": "stream",
     "text": [
      "\n"
     ]
    },
    {
     "name": "stdout",
     "output_type": "stream",
     "text": [
      "Training epoch: 32\n"
     ]
    },
    {
     "name": "stderr",
     "output_type": "stream",
     "text": [
      "100%|████████████████████████████████████████████████████████████████████████████████████| 1/1 [00:30<00:00, 30.17s/it]\n"
     ]
    },
    {
     "name": "stdout",
     "output_type": "stream",
     "text": [
      "Testing epoch: 32\n"
     ]
    },
    {
     "name": "stderr",
     "output_type": "stream",
     "text": [
      "100%|████████████████████████████████████████████████████████████████████████████████████| 1/1 [00:02<00:00,  2.09s/it]"
     ]
    },
    {
     "name": "stdout",
     "output_type": "stream",
     "text": [
      "Epoch: 32, Train Loss: 64.53, Test Loss 68.38, Test CER 90.76 % in 32.28 secs.\n",
      "\n",
      "WARNING:tensorflow:Compiled the loaded model, but the compiled metrics have yet to be built. `model.compile_metrics` will be empty until you train or evaluate the model.\n"
     ]
    },
    {
     "name": "stderr",
     "output_type": "stream",
     "text": [
      "\n"
     ]
    },
    {
     "name": "stdout",
     "output_type": "stream",
     "text": [
      "Training epoch: 33\n"
     ]
    },
    {
     "name": "stderr",
     "output_type": "stream",
     "text": [
      "\r",
      "  0%|                                                                                            | 0/1 [00:00<?, ?it/s]"
     ]
    }
   ],
   "source": [
    "train_model(model, \n",
    "            optimizer, \n",
    "            train_wavs, \n",
    "            train_texts,\n",
    "            test_wavs, \n",
    "            test_texts, \n",
    "            epochs=50, \n",
    "            batch_size=58)"
   ]
  },
  {
   "cell_type": "markdown",
   "id": "8beafbd3",
   "metadata": {},
   "source": [
    "# Save the final trained model"
   ]
  },
  {
   "cell_type": "code",
   "execution_count": null,
   "id": "984aea1b",
   "metadata": {},
   "outputs": [],
   "source": [
    "model.save(\"model/trained_model_v1.h5\", include_optimizer=True)"
   ]
  },
  {
   "cell_type": "markdown",
   "id": "36354a50",
   "metadata": {},
   "source": [
    "# Evaluation-------------------------------------------------------------------------------------------"
   ]
  },
  {
   "cell_type": "markdown",
   "id": "344a5940",
   "metadata": {},
   "source": [
    "# Loads the trained model"
   ]
  },
  {
   "cell_type": "code",
   "execution_count": 39,
   "id": "14aeb4ca",
   "metadata": {},
   "outputs": [],
   "source": [
    "optimizer = tf.keras.optimizers.Adam(learning_rate=0.001)\n",
    "loss = 'sparse_categorical_crossentropy'\n",
    "metrics = ['accuracy']\n"
   ]
  },
  {
   "cell_type": "code",
   "execution_count": 40,
   "id": "15878598",
   "metadata": {},
   "outputs": [
    {
     "name": "stdout",
     "output_type": "stream",
     "text": [
      "Loading model.....\n",
      "Model loaded ✅ ✅ ✅ ✅\n",
      "\n"
     ]
    }
   ],
   "source": [
    "print(\"Loading model.....\")\n",
    "model = load_model(\"model/trained_model_v1.h5\")\n",
    "model.compile(optimizer, loss, metrics)\n",
    "print(\"Model loaded \\u2705 \\u2705 \\u2705 \\u2705\\n\")"
   ]
  },
  {
   "cell_type": "markdown",
   "id": "551e21a5",
   "metadata": {},
   "source": [
    "# Loads wav file"
   ]
  },
  {
   "cell_type": "code",
   "execution_count": 41,
   "id": "b9e6c3ad",
   "metadata": {},
   "outputs": [
    {
     "name": "stdout",
     "output_type": "stream",
     "text": [
      "Loading wav files.....\n",
      "Wav files loaded ✅ ✅ ✅ ✅\n",
      "\n"
     ]
    }
   ],
   "source": [
    "wavs = []\n",
    "print(\"Loading wav files.....\")\n",
    "wavs.append(load_wav(\"dataset/wav_files(sampled)/0f43e91c4e.flac\"))\n",
    "wavs.append(load_wav(\"dataset/wav_files(sampled)/0f6725b07e.flac\"))\n",
    "print(\"Wav files loaded \\u2705 \\u2705 \\u2705 \\u2705\\n\")"
   ]
  },
  {
   "cell_type": "markdown",
   "id": "b742a09f",
   "metadata": {},
   "source": [
    "# Predict Text From Audio File"
   ]
  },
  {
   "cell_type": "code",
   "execution_count": 42,
   "id": "dd65a919",
   "metadata": {},
   "outputs": [
    {
     "name": "stdout",
     "output_type": "stream",
     "text": [
      "Predicting sentences.....\n",
      "['यस यभर य', 'यसा मा र ्शुेपहाल्छो'] \n",
      "\n"
     ]
    }
   ],
   "source": [
    "print(\"Predicting sentences.....\")\n",
    "sentences, char_indices = predict_from_wavs(model, wavs, UNQ_CHARS)\n",
    "print(sentences, \"\\n\")"
   ]
  },
  {
   "cell_type": "markdown",
   "id": "f907b4e2",
   "metadata": {},
   "source": [
    "# Softmax Output of CTC"
   ]
  },
  {
   "cell_type": "code",
   "execution_count": 43,
   "id": "11093ba2",
   "metadata": {},
   "outputs": [
    {
     "name": "stdout",
     "output_type": "stream",
     "text": [
      "tf.Tensor(\n",
      "[[[3.04562577e-19 8.00379495e-19 2.49285662e-11 ... 2.19409306e-18\n",
      "   6.26662395e-18 2.92129931e-03]\n",
      "  [8.00064437e-21 1.98814120e-20 1.44810983e-10 ... 6.10282418e-20\n",
      "   1.52059798e-19 6.71444507e-03]\n",
      "  [3.93435150e-22 5.31172637e-22 2.81021123e-10 ... 2.45557430e-21\n",
      "   1.77370384e-21 9.85601638e-03]\n",
      "  ...\n",
      "  [1.77661561e-16 1.93900228e-16 4.43195495e-06 ... 3.69974727e-17\n",
      "   8.18261223e-17 2.83210486e-01]\n",
      "  [5.40225279e-16 9.05729260e-16 2.00120240e-07 ... 1.54193137e-16\n",
      "   3.97802644e-16 2.18647216e-02]\n",
      "  [1.07561030e-12 1.63544905e-12 6.52369272e-06 ... 3.36377058e-13\n",
      "   6.49398666e-13 1.49701387e-01]]\n",
      "\n",
      " [[3.82609084e-17 5.70830128e-17 1.18909410e-10 ... 1.68244169e-16\n",
      "   4.65489603e-16 3.77455470e-03]\n",
      "  [4.93446116e-19 9.78307234e-19 2.55313520e-10 ... 3.33166203e-18\n",
      "   8.07683304e-18 4.91364952e-03]\n",
      "  [5.42110061e-21 7.68799675e-21 2.31669572e-10 ... 3.61572698e-20\n",
      "   2.60317810e-20 3.91244050e-03]\n",
      "  ...\n",
      "  [4.70833713e-13 4.16790151e-14 1.21751462e-08 ... 2.92432040e-13\n",
      "   5.11501242e-14 1.63687946e-05]\n",
      "  [5.29836429e-13 7.78356532e-14 8.09405378e-08 ... 3.48197030e-13\n",
      "   6.04460939e-14 2.00947998e-05]\n",
      "  [5.76575636e-12 1.93486264e-12 1.45375725e-05 ... 7.16345603e-12\n",
      "   6.97579039e-13 4.98617068e-04]]], shape=(2, 301, 66), dtype=float32)\n"
     ]
    }
   ],
   "source": [
    "softmax = ctc_softmax_output_from_wavs(model, wavs)\n",
    "print(softmax)"
   ]
  },
  {
   "cell_type": "markdown",
   "id": "992a8f78",
   "metadata": {},
   "source": [
    "# Plot losses from file"
   ]
  },
  {
   "cell_type": "code",
   "execution_count": 45,
   "id": "d80361d1",
   "metadata": {},
   "outputs": [
    {
     "data": {
      "image/png": "[encoded data removed]",
      "text/plain": [
       "<Figure size 1500x1000 with 1 Axes>"
      ]
     },
     "metadata": {},
     "output_type": "display_data"
    }
   ],
   "source": [
    "plot_losses('losses.pkl')"
   ]
  },
  {
   "cell_type": "markdown",
   "id": "0f21911a",
   "metadata": {},
   "source": [
    "# CER "
   ]
  },
  {
   "cell_type": "code",
   "execution_count": 44,
   "id": "282e94cd",
   "metadata": {},
   "outputs": [
    {
     "name": "stdout",
     "output_type": "stream",
     "text": [
      "Calculating CER.....\n",
      "CER -> 96.67%, \t No.of sentences -> 2, \t Time Taken -> 1.84 secs.\n",
      "The total time taken for all sentences CER calculation is  1.84 secs.\n",
      "0.9666666666666667 \n",
      "\n"
     ]
    }
   ],
   "source": [
    "print(\"Calculating CER.....\")\n",
    "cer = CER_from_wavs(model, wavs, [\"राज्य सिक्किमको\", \"लगेर हानेमा गलत\"], UNQ_CHARS)\n",
    "#राज्य सिक्किमको\n",
    "print(cer, \"\\n\")"
   ]
  }
 ],
 "metadata": {
  "kernelspec": {
   "display_name": "Python 3 (ipykernel)",
   "language": "python",
   "name": "python3"
  },
  "language_info": {
   "codemirror_mode": {
    "name": "ipython",
    "version": 3
   },
   "file_extension": ".py",
   "mimetype": "text/x-python",
   "name": "python",
   "nbconvert_exporter": "python",
   "pygments_lexer": "ipython3",
   "version": "3.10.9"
  }
 },
 "nbformat": 4,
 "nbformat_minor": 5
}
